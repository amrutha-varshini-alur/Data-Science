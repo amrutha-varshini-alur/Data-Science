{
  "nbformat": 4,
  "nbformat_minor": 0,
  "metadata": {
    "colab": {
      "provenance": []
    },
    "kernelspec": {
      "name": "python3",
      "display_name": "Python 3"
    },
    "language_info": {
      "name": "python"
    }
  },
  "cells": [
    {
      "cell_type": "code",
      "execution_count": null,
      "metadata": {
        "colab": {
          "base_uri": "https://localhost:8080/",
          "height": 488
        },
        "id": "Rn7Bjn-D3eBQ",
        "outputId": "8cd9c072-a8a6-4bc2-f574-5d6d28952136"
      },
      "outputs": [
        {
          "output_type": "execute_result",
          "data": {
            "text/plain": [
              "              chrom   start    stop  F10A2  F10A3  F10A4  F10A5  F10A6  F10B1  \\\n",
              "0              chr1       0   30000      0      0      0      0      0      0   \n",
              "1              chr1   30000   60000      0      0      0      0      0      0   \n",
              "2              chr1   60000   90000      0      0      0      0      0      0   \n",
              "3              chr1   90000  120000      0      0      0      0      0      0   \n",
              "4              chr1  120000  150000      0      0      0      0      0      0   \n",
              "...             ...     ...     ...    ...    ...    ...    ...    ...    ...   \n",
              "90872   chr4_random  150000  160594      0      0      0      0      0      0   \n",
              "90873   chr3_random       0   30000      0      0      0      0      0      0   \n",
              "90874   chr3_random   30000   41899      0      0      0      0      0      0   \n",
              "90875          chrM       0   16299      1      1      1      1      1      1   \n",
              "90876  chr16_random       0    3994      0      0      0      0      0      0   \n",
              "\n",
              "       F10B2  ...  F9F2  F9F3  F9F4  F9F5  F9F6  F9G1  F9G2  F9G3  F9G4  F9G5  \n",
              "0          0  ...     0     0     0     0     0     0     0     0     0     0  \n",
              "1          0  ...     0     0     0     0     0     0     0     0     0     0  \n",
              "2          0  ...     0     0     0     0     0     0     0     0     0     0  \n",
              "3          0  ...     0     0     0     0     0     0     0     0     0     0  \n",
              "4          0  ...     0     0     0     0     0     0     0     0     0     0  \n",
              "...      ...  ...   ...   ...   ...   ...   ...   ...   ...   ...   ...   ...  \n",
              "90872      0  ...     0     0     0     0     0     0     0     0     0     0  \n",
              "90873      0  ...     0     0     0     0     0     0     0     0     0     0  \n",
              "90874      0  ...     0     0     0     0     0     0     0     0     0     0  \n",
              "90875      1  ...     1     1     1     1     1     1     1     1     1     1  \n",
              "90876      0  ...     0     0     0     0     0     0     0     0     0     0  \n",
              "\n",
              "[90877 rows x 411 columns]"
            ],
            "text/html": [
              "\n",
              "  <div id=\"df-dd365d2f-804a-4d02-ad42-840fdc12970f\">\n",
              "    <div class=\"colab-df-container\">\n",
              "      <div>\n",
              "<style scoped>\n",
              "    .dataframe tbody tr th:only-of-type {\n",
              "        vertical-align: middle;\n",
              "    }\n",
              "\n",
              "    .dataframe tbody tr th {\n",
              "        vertical-align: top;\n",
              "    }\n",
              "\n",
              "    .dataframe thead th {\n",
              "        text-align: right;\n",
              "    }\n",
              "</style>\n",
              "<table border=\"1\" class=\"dataframe\">\n",
              "  <thead>\n",
              "    <tr style=\"text-align: right;\">\n",
              "      <th></th>\n",
              "      <th>chrom</th>\n",
              "      <th>start</th>\n",
              "      <th>stop</th>\n",
              "      <th>F10A2</th>\n",
              "      <th>F10A3</th>\n",
              "      <th>F10A4</th>\n",
              "      <th>F10A5</th>\n",
              "      <th>F10A6</th>\n",
              "      <th>F10B1</th>\n",
              "      <th>F10B2</th>\n",
              "      <th>...</th>\n",
              "      <th>F9F2</th>\n",
              "      <th>F9F3</th>\n",
              "      <th>F9F4</th>\n",
              "      <th>F9F5</th>\n",
              "      <th>F9F6</th>\n",
              "      <th>F9G1</th>\n",
              "      <th>F9G2</th>\n",
              "      <th>F9G3</th>\n",
              "      <th>F9G4</th>\n",
              "      <th>F9G5</th>\n",
              "    </tr>\n",
              "  </thead>\n",
              "  <tbody>\n",
              "    <tr>\n",
              "      <th>0</th>\n",
              "      <td>chr1</td>\n",
              "      <td>0</td>\n",
              "      <td>30000</td>\n",
              "      <td>0</td>\n",
              "      <td>0</td>\n",
              "      <td>0</td>\n",
              "      <td>0</td>\n",
              "      <td>0</td>\n",
              "      <td>0</td>\n",
              "      <td>0</td>\n",
              "      <td>...</td>\n",
              "      <td>0</td>\n",
              "      <td>0</td>\n",
              "      <td>0</td>\n",
              "      <td>0</td>\n",
              "      <td>0</td>\n",
              "      <td>0</td>\n",
              "      <td>0</td>\n",
              "      <td>0</td>\n",
              "      <td>0</td>\n",
              "      <td>0</td>\n",
              "    </tr>\n",
              "    <tr>\n",
              "      <th>1</th>\n",
              "      <td>chr1</td>\n",
              "      <td>30000</td>\n",
              "      <td>60000</td>\n",
              "      <td>0</td>\n",
              "      <td>0</td>\n",
              "      <td>0</td>\n",
              "      <td>0</td>\n",
              "      <td>0</td>\n",
              "      <td>0</td>\n",
              "      <td>0</td>\n",
              "      <td>...</td>\n",
              "      <td>0</td>\n",
              "      <td>0</td>\n",
              "      <td>0</td>\n",
              "      <td>0</td>\n",
              "      <td>0</td>\n",
              "      <td>0</td>\n",
              "      <td>0</td>\n",
              "      <td>0</td>\n",
              "      <td>0</td>\n",
              "      <td>0</td>\n",
              "    </tr>\n",
              "    <tr>\n",
              "      <th>2</th>\n",
              "      <td>chr1</td>\n",
              "      <td>60000</td>\n",
              "      <td>90000</td>\n",
              "      <td>0</td>\n",
              "      <td>0</td>\n",
              "      <td>0</td>\n",
              "      <td>0</td>\n",
              "      <td>0</td>\n",
              "      <td>0</td>\n",
              "      <td>0</td>\n",
              "      <td>...</td>\n",
              "      <td>0</td>\n",
              "      <td>0</td>\n",
              "      <td>0</td>\n",
              "      <td>0</td>\n",
              "      <td>0</td>\n",
              "      <td>0</td>\n",
              "      <td>0</td>\n",
              "      <td>0</td>\n",
              "      <td>0</td>\n",
              "      <td>0</td>\n",
              "    </tr>\n",
              "    <tr>\n",
              "      <th>3</th>\n",
              "      <td>chr1</td>\n",
              "      <td>90000</td>\n",
              "      <td>120000</td>\n",
              "      <td>0</td>\n",
              "      <td>0</td>\n",
              "      <td>0</td>\n",
              "      <td>0</td>\n",
              "      <td>0</td>\n",
              "      <td>0</td>\n",
              "      <td>0</td>\n",
              "      <td>...</td>\n",
              "      <td>0</td>\n",
              "      <td>0</td>\n",
              "      <td>0</td>\n",
              "      <td>0</td>\n",
              "      <td>0</td>\n",
              "      <td>0</td>\n",
              "      <td>0</td>\n",
              "      <td>0</td>\n",
              "      <td>0</td>\n",
              "      <td>0</td>\n",
              "    </tr>\n",
              "    <tr>\n",
              "      <th>4</th>\n",
              "      <td>chr1</td>\n",
              "      <td>120000</td>\n",
              "      <td>150000</td>\n",
              "      <td>0</td>\n",
              "      <td>0</td>\n",
              "      <td>0</td>\n",
              "      <td>0</td>\n",
              "      <td>0</td>\n",
              "      <td>0</td>\n",
              "      <td>0</td>\n",
              "      <td>...</td>\n",
              "      <td>0</td>\n",
              "      <td>0</td>\n",
              "      <td>0</td>\n",
              "      <td>0</td>\n",
              "      <td>0</td>\n",
              "      <td>0</td>\n",
              "      <td>0</td>\n",
              "      <td>0</td>\n",
              "      <td>0</td>\n",
              "      <td>0</td>\n",
              "    </tr>\n",
              "    <tr>\n",
              "      <th>...</th>\n",
              "      <td>...</td>\n",
              "      <td>...</td>\n",
              "      <td>...</td>\n",
              "      <td>...</td>\n",
              "      <td>...</td>\n",
              "      <td>...</td>\n",
              "      <td>...</td>\n",
              "      <td>...</td>\n",
              "      <td>...</td>\n",
              "      <td>...</td>\n",
              "      <td>...</td>\n",
              "      <td>...</td>\n",
              "      <td>...</td>\n",
              "      <td>...</td>\n",
              "      <td>...</td>\n",
              "      <td>...</td>\n",
              "      <td>...</td>\n",
              "      <td>...</td>\n",
              "      <td>...</td>\n",
              "      <td>...</td>\n",
              "      <td>...</td>\n",
              "    </tr>\n",
              "    <tr>\n",
              "      <th>90872</th>\n",
              "      <td>chr4_random</td>\n",
              "      <td>150000</td>\n",
              "      <td>160594</td>\n",
              "      <td>0</td>\n",
              "      <td>0</td>\n",
              "      <td>0</td>\n",
              "      <td>0</td>\n",
              "      <td>0</td>\n",
              "      <td>0</td>\n",
              "      <td>0</td>\n",
              "      <td>...</td>\n",
              "      <td>0</td>\n",
              "      <td>0</td>\n",
              "      <td>0</td>\n",
              "      <td>0</td>\n",
              "      <td>0</td>\n",
              "      <td>0</td>\n",
              "      <td>0</td>\n",
              "      <td>0</td>\n",
              "      <td>0</td>\n",
              "      <td>0</td>\n",
              "    </tr>\n",
              "    <tr>\n",
              "      <th>90873</th>\n",
              "      <td>chr3_random</td>\n",
              "      <td>0</td>\n",
              "      <td>30000</td>\n",
              "      <td>0</td>\n",
              "      <td>0</td>\n",
              "      <td>0</td>\n",
              "      <td>0</td>\n",
              "      <td>0</td>\n",
              "      <td>0</td>\n",
              "      <td>0</td>\n",
              "      <td>...</td>\n",
              "      <td>0</td>\n",
              "      <td>0</td>\n",
              "      <td>0</td>\n",
              "      <td>0</td>\n",
              "      <td>0</td>\n",
              "      <td>0</td>\n",
              "      <td>0</td>\n",
              "      <td>0</td>\n",
              "      <td>0</td>\n",
              "      <td>0</td>\n",
              "    </tr>\n",
              "    <tr>\n",
              "      <th>90874</th>\n",
              "      <td>chr3_random</td>\n",
              "      <td>30000</td>\n",
              "      <td>41899</td>\n",
              "      <td>0</td>\n",
              "      <td>0</td>\n",
              "      <td>0</td>\n",
              "      <td>0</td>\n",
              "      <td>0</td>\n",
              "      <td>0</td>\n",
              "      <td>0</td>\n",
              "      <td>...</td>\n",
              "      <td>0</td>\n",
              "      <td>0</td>\n",
              "      <td>0</td>\n",
              "      <td>0</td>\n",
              "      <td>0</td>\n",
              "      <td>0</td>\n",
              "      <td>0</td>\n",
              "      <td>0</td>\n",
              "      <td>0</td>\n",
              "      <td>0</td>\n",
              "    </tr>\n",
              "    <tr>\n",
              "      <th>90875</th>\n",
              "      <td>chrM</td>\n",
              "      <td>0</td>\n",
              "      <td>16299</td>\n",
              "      <td>1</td>\n",
              "      <td>1</td>\n",
              "      <td>1</td>\n",
              "      <td>1</td>\n",
              "      <td>1</td>\n",
              "      <td>1</td>\n",
              "      <td>1</td>\n",
              "      <td>...</td>\n",
              "      <td>1</td>\n",
              "      <td>1</td>\n",
              "      <td>1</td>\n",
              "      <td>1</td>\n",
              "      <td>1</td>\n",
              "      <td>1</td>\n",
              "      <td>1</td>\n",
              "      <td>1</td>\n",
              "      <td>1</td>\n",
              "      <td>1</td>\n",
              "    </tr>\n",
              "    <tr>\n",
              "      <th>90876</th>\n",
              "      <td>chr16_random</td>\n",
              "      <td>0</td>\n",
              "      <td>3994</td>\n",
              "      <td>0</td>\n",
              "      <td>0</td>\n",
              "      <td>0</td>\n",
              "      <td>0</td>\n",
              "      <td>0</td>\n",
              "      <td>0</td>\n",
              "      <td>0</td>\n",
              "      <td>...</td>\n",
              "      <td>0</td>\n",
              "      <td>0</td>\n",
              "      <td>0</td>\n",
              "      <td>0</td>\n",
              "      <td>0</td>\n",
              "      <td>0</td>\n",
              "      <td>0</td>\n",
              "      <td>0</td>\n",
              "      <td>0</td>\n",
              "      <td>0</td>\n",
              "    </tr>\n",
              "  </tbody>\n",
              "</table>\n",
              "<p>90877 rows × 411 columns</p>\n",
              "</div>\n",
              "      <button class=\"colab-df-convert\" onclick=\"convertToInteractive('df-dd365d2f-804a-4d02-ad42-840fdc12970f')\"\n",
              "              title=\"Convert this dataframe to an interactive table.\"\n",
              "              style=\"display:none;\">\n",
              "        \n",
              "  <svg xmlns=\"http://www.w3.org/2000/svg\" height=\"24px\"viewBox=\"0 0 24 24\"\n",
              "       width=\"24px\">\n",
              "    <path d=\"M0 0h24v24H0V0z\" fill=\"none\"/>\n",
              "    <path d=\"M18.56 5.44l.94 2.06.94-2.06 2.06-.94-2.06-.94-.94-2.06-.94 2.06-2.06.94zm-11 1L8.5 8.5l.94-2.06 2.06-.94-2.06-.94L8.5 2.5l-.94 2.06-2.06.94zm10 10l.94 2.06.94-2.06 2.06-.94-2.06-.94-.94-2.06-.94 2.06-2.06.94z\"/><path d=\"M17.41 7.96l-1.37-1.37c-.4-.4-.92-.59-1.43-.59-.52 0-1.04.2-1.43.59L10.3 9.45l-7.72 7.72c-.78.78-.78 2.05 0 2.83L4 21.41c.39.39.9.59 1.41.59.51 0 1.02-.2 1.41-.59l7.78-7.78 2.81-2.81c.8-.78.8-2.07 0-2.86zM5.41 20L4 18.59l7.72-7.72 1.47 1.35L5.41 20z\"/>\n",
              "  </svg>\n",
              "      </button>\n",
              "      \n",
              "  <style>\n",
              "    .colab-df-container {\n",
              "      display:flex;\n",
              "      flex-wrap:wrap;\n",
              "      gap: 12px;\n",
              "    }\n",
              "\n",
              "    .colab-df-convert {\n",
              "      background-color: #E8F0FE;\n",
              "      border: none;\n",
              "      border-radius: 50%;\n",
              "      cursor: pointer;\n",
              "      display: none;\n",
              "      fill: #1967D2;\n",
              "      height: 32px;\n",
              "      padding: 0 0 0 0;\n",
              "      width: 32px;\n",
              "    }\n",
              "\n",
              "    .colab-df-convert:hover {\n",
              "      background-color: #E2EBFA;\n",
              "      box-shadow: 0px 1px 2px rgba(60, 64, 67, 0.3), 0px 1px 3px 1px rgba(60, 64, 67, 0.15);\n",
              "      fill: #174EA6;\n",
              "    }\n",
              "\n",
              "    [theme=dark] .colab-df-convert {\n",
              "      background-color: #3B4455;\n",
              "      fill: #D2E3FC;\n",
              "    }\n",
              "\n",
              "    [theme=dark] .colab-df-convert:hover {\n",
              "      background-color: #434B5C;\n",
              "      box-shadow: 0px 1px 3px 1px rgba(0, 0, 0, 0.15);\n",
              "      filter: drop-shadow(0px 1px 2px rgba(0, 0, 0, 0.3));\n",
              "      fill: #FFFFFF;\n",
              "    }\n",
              "  </style>\n",
              "\n",
              "      <script>\n",
              "        const buttonEl =\n",
              "          document.querySelector('#df-dd365d2f-804a-4d02-ad42-840fdc12970f button.colab-df-convert');\n",
              "        buttonEl.style.display =\n",
              "          google.colab.kernel.accessAllowed ? 'block' : 'none';\n",
              "\n",
              "        async function convertToInteractive(key) {\n",
              "          const element = document.querySelector('#df-dd365d2f-804a-4d02-ad42-840fdc12970f');\n",
              "          const dataTable =\n",
              "            await google.colab.kernel.invokeFunction('convertToInteractive',\n",
              "                                                     [key], {});\n",
              "          if (!dataTable) return;\n",
              "\n",
              "          const docLinkHtml = 'Like what you see? Visit the ' +\n",
              "            '<a target=\"_blank\" href=https://colab.research.google.com/notebooks/data_table.ipynb>data table notebook</a>'\n",
              "            + ' to learn more about interactive tables.';\n",
              "          element.innerHTML = '';\n",
              "          dataTable['output_type'] = 'display_data';\n",
              "          await google.colab.output.renderOutput(dataTable, element);\n",
              "          const docLink = document.createElement('div');\n",
              "          docLink.innerHTML = docLinkHtml;\n",
              "          element.appendChild(docLink);\n",
              "        }\n",
              "      </script>\n",
              "    </div>\n",
              "  </div>\n",
              "  "
            ]
          },
          "metadata": {},
          "execution_count": 70
        }
      ],
      "source": [
        "import pandas as pd\n",
        "df = pd.read_csv('/content/GSE64881_segmentation_at_30000bp.passqc.multibam.csv')\n",
        "hist_df = pd.read_csv('/content/Hist1_region_features.csv')\n",
        "df"
      ]
    },
    {
      "cell_type": "code",
      "source": [
        "column_names = df.columns[3:]\n",
        "print (column_names)\n",
        "column_names_list = list(column_names)\n",
        "print (column_names_list)"
      ],
      "metadata": {
        "colab": {
          "base_uri": "https://localhost:8080/"
        },
        "id": "gsRTtGUBGqnB",
        "outputId": "581e36b2-e479-44ec-af12-1ee9890d5493"
      },
      "execution_count": null,
      "outputs": [
        {
          "output_type": "stream",
          "name": "stdout",
          "text": [
            "Index(['F10A2', 'F10A3', 'F10A4', 'F10A5', 'F10A6', 'F10B1', 'F10B2', 'F10B3',\n",
            "       'F10B4', 'F10B5',\n",
            "       ...\n",
            "       'F9F2', 'F9F3', 'F9F4', 'F9F5', 'F9F6', 'F9G1', 'F9G2', 'F9G3', 'F9G4',\n",
            "       'F9G5'],\n",
            "      dtype='object', length=408)\n",
            "['F10A2', 'F10A3', 'F10A4', 'F10A5', 'F10A6', 'F10B1', 'F10B2', 'F10B3', 'F10B4', 'F10B5', 'F10B6', 'F10C1', 'F10C2', 'F10C3', 'F10C4', 'F10C6', 'F10D1', 'F10D2', 'F10D3', 'F10D5', 'F10D6', 'F10E1', 'F10E2', 'F10E3', 'F10E4', 'F10E5', 'F10E6', 'F10F1', 'F10F2', 'F10F3', 'F10F4', 'F10F5', 'F10F6', 'F10G1', 'F10G2', 'F10G4', 'F10G5', 'F11A1', 'F11A2', 'F11A3', 'F11A4', 'F11A5', 'F11A6', 'F11B1', 'F11B2', 'F11B3', 'F11B4', 'F11B5', 'F11C1', 'F11C2', 'F11C3', 'F11C4', 'F11C6', 'F11D1', 'F11D2', 'F11D3', 'F11D4', 'F11D6', 'F11E1', 'F11E3', 'F11E4', 'F11E5', 'F11E6', 'F11F1', 'F11F2', 'F11F4', 'F11F5', 'F11F6', 'F11G1', 'F11G3', 'F11G4', 'F12A2', 'F12A4', 'F12A6', 'F12B1', 'F12B2', 'F12B3', 'F12B5', 'F12B6', 'F12C1', 'F12C2', 'F12C4', 'F12C6', 'F12D4', 'F12D5', 'F12D6', 'F12E1', 'F12E3', 'F12E4', 'F12E5', 'F12E6', 'F12F1', 'F12F2', 'F12F4', 'F12F5', 'F12F6', 'F12G1', 'F12G2', 'F12G3', 'F12G4', 'F15A3', 'F15A5', 'F15A6', 'F15A7', 'F15A8', 'F15B1', 'F15B3', 'F15B4', 'F15B5', 'F15B6', 'F15B7', 'F15B8', 'F15C1', 'F15C2', 'F15C3', 'F15C4', 'F15C5', 'F15C6', 'F15C7', 'F15C8', 'F15D1', 'F15D2', 'F15D3', 'F15D4', 'F15D7', 'F15D8', 'F15E1', 'F15E2', 'F15E4', 'F15E5', 'F15E6', 'F15E7', 'F15E8', 'F15F1', 'F15F2', 'F15F3', 'F15F4', 'F15F5', 'F15F6', 'F15F7', 'F15F8', 'F15G1', 'F15G3', 'F15G4', 'F15G5', 'F15G6', 'F15G7', 'F15G8', 'F15H1', 'F15H5', 'F15H7', 'F16A1', 'F16A2', 'F16A3', 'F16A4', 'F16A5', 'F16A6', 'F16A7', 'F16B1', 'F16B2', 'F16B3', 'F16B4', 'F16B5', 'F16B6', 'F16B7', 'F16C1', 'F16C3', 'F16C4', 'F16C5', 'F16C6', 'F16C7', 'F16D1', 'F16D2', 'F16D3', 'F16D4', 'F16D5', 'F16D6', 'F16D7', 'F16E1', 'F16E2', 'F16E3', 'F16E4', 'F16E5', 'F16E6', 'F16E7', 'F16F1', 'F16F2', 'F16F3', 'F16F4', 'F16F5', 'F16F6', 'F16F7', 'F16G1', 'F16G3', 'F16G4', 'F16G5', 'F16G6', 'F17A1', 'F17A2', 'F17A3', 'F17A6', 'F17A7', 'F17B1', 'F17B2', 'F17B3', 'F17B6', 'F17B7', 'F17C1', 'F17C2', 'F17C3', 'F17C4', 'F17C6', 'F17C7', 'F17D1', 'F17D2', 'F17D4', 'F17D6', 'F17D7', 'F17E1', 'F17E2', 'F17E3', 'F17E4', 'F17E5', 'F17E6', 'F17E7', 'F17F1', 'F17F2', 'F17F3', 'F17F4', 'F17F5', 'F17F6', 'F17F7', 'F17G1', 'F17G3', 'F17G4', 'F17G5', 'F17G6', 'F18A1', 'F18B1', 'F18B2', 'F18B3', 'F18B4', 'F18C1', 'F18C2', 'F18C3', 'F18C4', 'F18D1', 'F18D2', 'F18E1', 'F18E2', 'F18E3', 'F18F1', 'F18F2', 'F18F3', 'F18F4', 'F18G1', 'F18G3', 'F18G4', 'F3F1', 'F5A2', 'F5A4', 'F5B1', 'F5B2', 'F5B3', 'F5B4', 'F5C1', 'F5C2', 'F5C3', 'F5C4', 'F5D1', 'F5D3', 'F5D4', 'F5E2', 'F5E3', 'F5E4', 'F5F2', 'F5F4', 'F5G2', 'F6A2', 'F6A4', 'F6B2', 'F6B3', 'F6B4', 'F6C2', 'F6C4', 'F6D2', 'F6D3', 'F6D4', 'F6E2', 'F6E3', 'F6E4', 'F6F2', 'F6F3', 'F6F4', 'F6G1', 'F6G2', 'F6G3', 'F7A1', 'F7A2', 'F7A3', 'F7A4', 'F7A5', 'F7A6', 'F7B1', 'F7B2', 'F7B3', 'F7B4', 'F7B5', 'F7B6', 'F7C1', 'F7C2', 'F7C3', 'F7C4', 'F7C5', 'F7C6', 'F7D1', 'F7D2', 'F7D3', 'F7D4', 'F7D5', 'F7D6', 'F7E1', 'F7E2', 'F7E5', 'F7E6', 'F7F1', 'F7F2', 'F7F3', 'F7F4', 'F7F5', 'F7F6', 'F7G1', 'F7G2', 'F7G3', 'F7G5', 'F8A1', 'F8A2', 'F8A3', 'F8A4', 'F8A6', 'F8B1', 'F8B2', 'F8B4', 'F8B5', 'F8B6', 'F8C1', 'F8C2', 'F8C3', 'F8C4', 'F8C5', 'F8C6', 'F8D1', 'F8D2', 'F8D3', 'F8D4', 'F8D5', 'F8D6', 'F8E1', 'F8E2', 'F8E3', 'F8E4', 'F8E6', 'F8F1', 'F8F2', 'F8F3', 'F8F4', 'F8G1', 'F8G2', 'F8G3', 'F8G4', 'F8G5', 'F9A1', 'F9A2', 'F9A3', 'F9A4', 'F9A5', 'F9A6', 'F9B1', 'F9B2', 'F9B3', 'F9B4', 'F9B5', 'F9B6', 'F9C1', 'F9C2', 'F9C4', 'F9C5', 'F9D1', 'F9D2', 'F9D3', 'F9D5', 'F9D6', 'F9E2', 'F9E3', 'F9E4', 'F9E5', 'F9E6', 'F9F1', 'F9F2', 'F9F3', 'F9F4', 'F9F5', 'F9F6', 'F9G1', 'F9G2', 'F9G3', 'F9G4', 'F9G5']\n"
          ]
        }
      ]
    },
    {
      "cell_type": "markdown",
      "source": [
        "Extracting Hist1 region\n",
        "\n",
        "Data frame 2 (df2) has hist1 region of mouse genome"
      ],
      "metadata": {
        "id": "8AMqOfVzE_RC"
      }
    },
    {
      "cell_type": "code",
      "source": [
        "df2 = df[(df['chrom']=='chr13') & (df['start']>= 21690000) & (df['stop']<= 24120000)]"
      ],
      "metadata": {
        "id": "WqJZbu2F4Yn2"
      },
      "execution_count": null,
      "outputs": []
    },
    {
      "cell_type": "markdown",
      "source": [
        "Features- Histone genes and Lamda Associated Domains (LADs)"
      ],
      "metadata": {
        "id": "x5yY0_dDFrO4"
      }
    },
    {
      "cell_type": "code",
      "source": [
        "lad_data = (hist_df[['LAD']])\n",
        "hist1_data = (hist_df[['Hist1']])\n",
        "print (len((lad_data)))"
      ],
      "metadata": {
        "colab": {
          "base_uri": "https://localhost:8080/"
        },
        "id": "BankWUEJimEB",
        "outputId": "86b3a5ef-ecfa-4b94-cf40-825628e860f9"
      },
      "execution_count": null,
      "outputs": [
        {
          "output_type": "stream",
          "name": "stdout",
          "text": [
            "81\n"
          ]
        }
      ]
    },
    {
      "cell_type": "code",
      "source": [
        "hist_data = df2.loc[:, (df2 != 0).any(axis=0)]\n",
        "hist_data = hist_data.drop([\"chrom\",\"start\",\"stop\"], axis=1)\n",
        "hist_data"
      ],
      "metadata": {
        "colab": {
          "base_uri": "https://localhost:8080/",
          "height": 488
        },
        "id": "1Fom9ASD42vP",
        "outputId": "8f47156c-4570-4741-f478-74155285bc20"
      },
      "execution_count": null,
      "outputs": [
        {
          "output_type": "execute_result",
          "data": {
            "text/plain": [
              "       F10A3  F10A5  F10B3  F10B5  F10C1  F10C3  F10C4  F10D1  F10D5  F10E3  \\\n",
              "69714      1      0      0      0      0      1      0      1      0      0   \n",
              "69715      1      0      0      0      0      1      0      1      0      0   \n",
              "69716      1      0      0      1      0      1      0      0      0      0   \n",
              "69717      0      0      0      1      0      1      0      1      0      0   \n",
              "69718      1      0      0      1      0      0      0      1      0      0   \n",
              "...      ...    ...    ...    ...    ...    ...    ...    ...    ...    ...   \n",
              "69790      0      0      0      0      0      1      0      1      0      0   \n",
              "69791      0      0      0      1      0      1      0      1      0      0   \n",
              "69792      0      0      0      1      0      1      0      1      0      0   \n",
              "69793      1      0      0      1      0      1      0      1      0      0   \n",
              "69794      1      0      0      1      0      1      0      1      0      0   \n",
              "\n",
              "       ...  F9A4  F9A5  F9B4  F9B6  F9C5  F9D3  F9D6  F9F2  F9F3  F9G3  \n",
              "69714  ...     0     0     0     0     1     0     0     1     0     0  \n",
              "69715  ...     0     0     0     0     0     0     0     1     0     1  \n",
              "69716  ...     0     0     0     1     0     0     0     1     0     1  \n",
              "69717  ...     0     0     0     1     1     0     0     1     0     0  \n",
              "69718  ...     0     0     0     0     1     0     0     1     0     0  \n",
              "...    ...   ...   ...   ...   ...   ...   ...   ...   ...   ...   ...  \n",
              "69790  ...     0     0     0     0     0     1     1     0     0     0  \n",
              "69791  ...     0     0     0     0     0     1     1     1     0     0  \n",
              "69792  ...     0     0     0     0     1     1     1     1     0     0  \n",
              "69793  ...     0     1     0     0     1     1     1     1     0     0  \n",
              "69794  ...     0     0     0     0     0     1     0     1     0     0  \n",
              "\n",
              "[81 rows x 163 columns]"
            ],
            "text/html": [
              "\n",
              "  <div id=\"df-3560fb2d-261b-46c3-b723-34e6e275ed4c\">\n",
              "    <div class=\"colab-df-container\">\n",
              "      <div>\n",
              "<style scoped>\n",
              "    .dataframe tbody tr th:only-of-type {\n",
              "        vertical-align: middle;\n",
              "    }\n",
              "\n",
              "    .dataframe tbody tr th {\n",
              "        vertical-align: top;\n",
              "    }\n",
              "\n",
              "    .dataframe thead th {\n",
              "        text-align: right;\n",
              "    }\n",
              "</style>\n",
              "<table border=\"1\" class=\"dataframe\">\n",
              "  <thead>\n",
              "    <tr style=\"text-align: right;\">\n",
              "      <th></th>\n",
              "      <th>F10A3</th>\n",
              "      <th>F10A5</th>\n",
              "      <th>F10B3</th>\n",
              "      <th>F10B5</th>\n",
              "      <th>F10C1</th>\n",
              "      <th>F10C3</th>\n",
              "      <th>F10C4</th>\n",
              "      <th>F10D1</th>\n",
              "      <th>F10D5</th>\n",
              "      <th>F10E3</th>\n",
              "      <th>...</th>\n",
              "      <th>F9A4</th>\n",
              "      <th>F9A5</th>\n",
              "      <th>F9B4</th>\n",
              "      <th>F9B6</th>\n",
              "      <th>F9C5</th>\n",
              "      <th>F9D3</th>\n",
              "      <th>F9D6</th>\n",
              "      <th>F9F2</th>\n",
              "      <th>F9F3</th>\n",
              "      <th>F9G3</th>\n",
              "    </tr>\n",
              "  </thead>\n",
              "  <tbody>\n",
              "    <tr>\n",
              "      <th>69714</th>\n",
              "      <td>1</td>\n",
              "      <td>0</td>\n",
              "      <td>0</td>\n",
              "      <td>0</td>\n",
              "      <td>0</td>\n",
              "      <td>1</td>\n",
              "      <td>0</td>\n",
              "      <td>1</td>\n",
              "      <td>0</td>\n",
              "      <td>0</td>\n",
              "      <td>...</td>\n",
              "      <td>0</td>\n",
              "      <td>0</td>\n",
              "      <td>0</td>\n",
              "      <td>0</td>\n",
              "      <td>1</td>\n",
              "      <td>0</td>\n",
              "      <td>0</td>\n",
              "      <td>1</td>\n",
              "      <td>0</td>\n",
              "      <td>0</td>\n",
              "    </tr>\n",
              "    <tr>\n",
              "      <th>69715</th>\n",
              "      <td>1</td>\n",
              "      <td>0</td>\n",
              "      <td>0</td>\n",
              "      <td>0</td>\n",
              "      <td>0</td>\n",
              "      <td>1</td>\n",
              "      <td>0</td>\n",
              "      <td>1</td>\n",
              "      <td>0</td>\n",
              "      <td>0</td>\n",
              "      <td>...</td>\n",
              "      <td>0</td>\n",
              "      <td>0</td>\n",
              "      <td>0</td>\n",
              "      <td>0</td>\n",
              "      <td>0</td>\n",
              "      <td>0</td>\n",
              "      <td>0</td>\n",
              "      <td>1</td>\n",
              "      <td>0</td>\n",
              "      <td>1</td>\n",
              "    </tr>\n",
              "    <tr>\n",
              "      <th>69716</th>\n",
              "      <td>1</td>\n",
              "      <td>0</td>\n",
              "      <td>0</td>\n",
              "      <td>1</td>\n",
              "      <td>0</td>\n",
              "      <td>1</td>\n",
              "      <td>0</td>\n",
              "      <td>0</td>\n",
              "      <td>0</td>\n",
              "      <td>0</td>\n",
              "      <td>...</td>\n",
              "      <td>0</td>\n",
              "      <td>0</td>\n",
              "      <td>0</td>\n",
              "      <td>1</td>\n",
              "      <td>0</td>\n",
              "      <td>0</td>\n",
              "      <td>0</td>\n",
              "      <td>1</td>\n",
              "      <td>0</td>\n",
              "      <td>1</td>\n",
              "    </tr>\n",
              "    <tr>\n",
              "      <th>69717</th>\n",
              "      <td>0</td>\n",
              "      <td>0</td>\n",
              "      <td>0</td>\n",
              "      <td>1</td>\n",
              "      <td>0</td>\n",
              "      <td>1</td>\n",
              "      <td>0</td>\n",
              "      <td>1</td>\n",
              "      <td>0</td>\n",
              "      <td>0</td>\n",
              "      <td>...</td>\n",
              "      <td>0</td>\n",
              "      <td>0</td>\n",
              "      <td>0</td>\n",
              "      <td>1</td>\n",
              "      <td>1</td>\n",
              "      <td>0</td>\n",
              "      <td>0</td>\n",
              "      <td>1</td>\n",
              "      <td>0</td>\n",
              "      <td>0</td>\n",
              "    </tr>\n",
              "    <tr>\n",
              "      <th>69718</th>\n",
              "      <td>1</td>\n",
              "      <td>0</td>\n",
              "      <td>0</td>\n",
              "      <td>1</td>\n",
              "      <td>0</td>\n",
              "      <td>0</td>\n",
              "      <td>0</td>\n",
              "      <td>1</td>\n",
              "      <td>0</td>\n",
              "      <td>0</td>\n",
              "      <td>...</td>\n",
              "      <td>0</td>\n",
              "      <td>0</td>\n",
              "      <td>0</td>\n",
              "      <td>0</td>\n",
              "      <td>1</td>\n",
              "      <td>0</td>\n",
              "      <td>0</td>\n",
              "      <td>1</td>\n",
              "      <td>0</td>\n",
              "      <td>0</td>\n",
              "    </tr>\n",
              "    <tr>\n",
              "      <th>...</th>\n",
              "      <td>...</td>\n",
              "      <td>...</td>\n",
              "      <td>...</td>\n",
              "      <td>...</td>\n",
              "      <td>...</td>\n",
              "      <td>...</td>\n",
              "      <td>...</td>\n",
              "      <td>...</td>\n",
              "      <td>...</td>\n",
              "      <td>...</td>\n",
              "      <td>...</td>\n",
              "      <td>...</td>\n",
              "      <td>...</td>\n",
              "      <td>...</td>\n",
              "      <td>...</td>\n",
              "      <td>...</td>\n",
              "      <td>...</td>\n",
              "      <td>...</td>\n",
              "      <td>...</td>\n",
              "      <td>...</td>\n",
              "      <td>...</td>\n",
              "    </tr>\n",
              "    <tr>\n",
              "      <th>69790</th>\n",
              "      <td>0</td>\n",
              "      <td>0</td>\n",
              "      <td>0</td>\n",
              "      <td>0</td>\n",
              "      <td>0</td>\n",
              "      <td>1</td>\n",
              "      <td>0</td>\n",
              "      <td>1</td>\n",
              "      <td>0</td>\n",
              "      <td>0</td>\n",
              "      <td>...</td>\n",
              "      <td>0</td>\n",
              "      <td>0</td>\n",
              "      <td>0</td>\n",
              "      <td>0</td>\n",
              "      <td>0</td>\n",
              "      <td>1</td>\n",
              "      <td>1</td>\n",
              "      <td>0</td>\n",
              "      <td>0</td>\n",
              "      <td>0</td>\n",
              "    </tr>\n",
              "    <tr>\n",
              "      <th>69791</th>\n",
              "      <td>0</td>\n",
              "      <td>0</td>\n",
              "      <td>0</td>\n",
              "      <td>1</td>\n",
              "      <td>0</td>\n",
              "      <td>1</td>\n",
              "      <td>0</td>\n",
              "      <td>1</td>\n",
              "      <td>0</td>\n",
              "      <td>0</td>\n",
              "      <td>...</td>\n",
              "      <td>0</td>\n",
              "      <td>0</td>\n",
              "      <td>0</td>\n",
              "      <td>0</td>\n",
              "      <td>0</td>\n",
              "      <td>1</td>\n",
              "      <td>1</td>\n",
              "      <td>1</td>\n",
              "      <td>0</td>\n",
              "      <td>0</td>\n",
              "    </tr>\n",
              "    <tr>\n",
              "      <th>69792</th>\n",
              "      <td>0</td>\n",
              "      <td>0</td>\n",
              "      <td>0</td>\n",
              "      <td>1</td>\n",
              "      <td>0</td>\n",
              "      <td>1</td>\n",
              "      <td>0</td>\n",
              "      <td>1</td>\n",
              "      <td>0</td>\n",
              "      <td>0</td>\n",
              "      <td>...</td>\n",
              "      <td>0</td>\n",
              "      <td>0</td>\n",
              "      <td>0</td>\n",
              "      <td>0</td>\n",
              "      <td>1</td>\n",
              "      <td>1</td>\n",
              "      <td>1</td>\n",
              "      <td>1</td>\n",
              "      <td>0</td>\n",
              "      <td>0</td>\n",
              "    </tr>\n",
              "    <tr>\n",
              "      <th>69793</th>\n",
              "      <td>1</td>\n",
              "      <td>0</td>\n",
              "      <td>0</td>\n",
              "      <td>1</td>\n",
              "      <td>0</td>\n",
              "      <td>1</td>\n",
              "      <td>0</td>\n",
              "      <td>1</td>\n",
              "      <td>0</td>\n",
              "      <td>0</td>\n",
              "      <td>...</td>\n",
              "      <td>0</td>\n",
              "      <td>1</td>\n",
              "      <td>0</td>\n",
              "      <td>0</td>\n",
              "      <td>1</td>\n",
              "      <td>1</td>\n",
              "      <td>1</td>\n",
              "      <td>1</td>\n",
              "      <td>0</td>\n",
              "      <td>0</td>\n",
              "    </tr>\n",
              "    <tr>\n",
              "      <th>69794</th>\n",
              "      <td>1</td>\n",
              "      <td>0</td>\n",
              "      <td>0</td>\n",
              "      <td>1</td>\n",
              "      <td>0</td>\n",
              "      <td>1</td>\n",
              "      <td>0</td>\n",
              "      <td>1</td>\n",
              "      <td>0</td>\n",
              "      <td>0</td>\n",
              "      <td>...</td>\n",
              "      <td>0</td>\n",
              "      <td>0</td>\n",
              "      <td>0</td>\n",
              "      <td>0</td>\n",
              "      <td>0</td>\n",
              "      <td>1</td>\n",
              "      <td>0</td>\n",
              "      <td>1</td>\n",
              "      <td>0</td>\n",
              "      <td>0</td>\n",
              "    </tr>\n",
              "  </tbody>\n",
              "</table>\n",
              "<p>81 rows × 163 columns</p>\n",
              "</div>\n",
              "      <button class=\"colab-df-convert\" onclick=\"convertToInteractive('df-3560fb2d-261b-46c3-b723-34e6e275ed4c')\"\n",
              "              title=\"Convert this dataframe to an interactive table.\"\n",
              "              style=\"display:none;\">\n",
              "        \n",
              "  <svg xmlns=\"http://www.w3.org/2000/svg\" height=\"24px\"viewBox=\"0 0 24 24\"\n",
              "       width=\"24px\">\n",
              "    <path d=\"M0 0h24v24H0V0z\" fill=\"none\"/>\n",
              "    <path d=\"M18.56 5.44l.94 2.06.94-2.06 2.06-.94-2.06-.94-.94-2.06-.94 2.06-2.06.94zm-11 1L8.5 8.5l.94-2.06 2.06-.94-2.06-.94L8.5 2.5l-.94 2.06-2.06.94zm10 10l.94 2.06.94-2.06 2.06-.94-2.06-.94-.94-2.06-.94 2.06-2.06.94z\"/><path d=\"M17.41 7.96l-1.37-1.37c-.4-.4-.92-.59-1.43-.59-.52 0-1.04.2-1.43.59L10.3 9.45l-7.72 7.72c-.78.78-.78 2.05 0 2.83L4 21.41c.39.39.9.59 1.41.59.51 0 1.02-.2 1.41-.59l7.78-7.78 2.81-2.81c.8-.78.8-2.07 0-2.86zM5.41 20L4 18.59l7.72-7.72 1.47 1.35L5.41 20z\"/>\n",
              "  </svg>\n",
              "      </button>\n",
              "      \n",
              "  <style>\n",
              "    .colab-df-container {\n",
              "      display:flex;\n",
              "      flex-wrap:wrap;\n",
              "      gap: 12px;\n",
              "    }\n",
              "\n",
              "    .colab-df-convert {\n",
              "      background-color: #E8F0FE;\n",
              "      border: none;\n",
              "      border-radius: 50%;\n",
              "      cursor: pointer;\n",
              "      display: none;\n",
              "      fill: #1967D2;\n",
              "      height: 32px;\n",
              "      padding: 0 0 0 0;\n",
              "      width: 32px;\n",
              "    }\n",
              "\n",
              "    .colab-df-convert:hover {\n",
              "      background-color: #E2EBFA;\n",
              "      box-shadow: 0px 1px 2px rgba(60, 64, 67, 0.3), 0px 1px 3px 1px rgba(60, 64, 67, 0.15);\n",
              "      fill: #174EA6;\n",
              "    }\n",
              "\n",
              "    [theme=dark] .colab-df-convert {\n",
              "      background-color: #3B4455;\n",
              "      fill: #D2E3FC;\n",
              "    }\n",
              "\n",
              "    [theme=dark] .colab-df-convert:hover {\n",
              "      background-color: #434B5C;\n",
              "      box-shadow: 0px 1px 3px 1px rgba(0, 0, 0, 0.15);\n",
              "      filter: drop-shadow(0px 1px 2px rgba(0, 0, 0, 0.3));\n",
              "      fill: #FFFFFF;\n",
              "    }\n",
              "  </style>\n",
              "\n",
              "      <script>\n",
              "        const buttonEl =\n",
              "          document.querySelector('#df-3560fb2d-261b-46c3-b723-34e6e275ed4c button.colab-df-convert');\n",
              "        buttonEl.style.display =\n",
              "          google.colab.kernel.accessAllowed ? 'block' : 'none';\n",
              "\n",
              "        async function convertToInteractive(key) {\n",
              "          const element = document.querySelector('#df-3560fb2d-261b-46c3-b723-34e6e275ed4c');\n",
              "          const dataTable =\n",
              "            await google.colab.kernel.invokeFunction('convertToInteractive',\n",
              "                                                     [key], {});\n",
              "          if (!dataTable) return;\n",
              "\n",
              "          const docLinkHtml = 'Like what you see? Visit the ' +\n",
              "            '<a target=\"_blank\" href=https://colab.research.google.com/notebooks/data_table.ipynb>data table notebook</a>'\n",
              "            + ' to learn more about interactive tables.';\n",
              "          element.innerHTML = '';\n",
              "          dataTable['output_type'] = 'display_data';\n",
              "          await google.colab.output.renderOutput(dataTable, element);\n",
              "          const docLink = document.createElement('div');\n",
              "          docLink.innerHTML = docLinkHtml;\n",
              "          element.appendChild(docLink);\n",
              "        }\n",
              "      </script>\n",
              "    </div>\n",
              "  </div>\n",
              "  "
            ]
          },
          "metadata": {},
          "execution_count": 74
        }
      ]
    },
    {
      "cell_type": "code",
      "source": [
        "count_of_windows = hist_data.sum(axis=0)\n"
      ],
      "metadata": {
        "id": "JhMmm2n9x_mR"
      },
      "execution_count": null,
      "outputs": []
    },
    {
      "cell_type": "code",
      "source": [
        "column_names = list(hist_data.columns)"
      ],
      "metadata": {
        "id": "wHa4GhLH0cja"
      },
      "execution_count": null,
      "outputs": []
    },
    {
      "cell_type": "markdown",
      "source": [
        "# **Clustering**"
      ],
      "metadata": {
        "id": "LPB_TIxH1TRI"
      }
    },
    {
      "cell_type": "code",
      "source": [
        "import numpy as np\n",
        "\n",
        "rows = 163\n",
        "cols = 163\n",
        "\n",
        "\n",
        "m_matrix = np.zeros((rows, cols))\n",
        "\n",
        "for x in range(rows):\n",
        "\n",
        "  for y in range(x+1, cols):\n",
        "\n",
        "    count_m11=0\n",
        "\n",
        "    for z in range(81):\n",
        "\n",
        "      if ((hist_data.iat[z,x] == 1) and (hist_data.iat[z,y] == 1)):\n",
        "        count_m11 += 1;\n",
        "\n",
        "    m_matrix[x][y] = ((count_m11)/min(count_of_windows[x],count_of_windows[y]))"
      ],
      "metadata": {
        "id": "HnDoBGAP1SiV"
      },
      "execution_count": null,
      "outputs": []
    },
    {
      "cell_type": "code",
      "source": [
        "for i in range(rows):\n",
        "    for j in range(i, cols):\n",
        "        m_matrix[j][i] = m_matrix[i][j]\n",
        "print(np.matrix(m_matrix))"
      ],
      "metadata": {
        "colab": {
          "base_uri": "https://localhost:8080/"
        },
        "id": "SU6f4KXX1yq4",
        "outputId": "3f89a776-1efd-4d1d-e9d3-fce2040138bb"
      },
      "execution_count": null,
      "outputs": [
        {
          "output_type": "stream",
          "name": "stdout",
          "text": [
            "[[0.         1.         0.         ... 0.52631579 0.53846154 0.8       ]\n",
            " [1.         0.         0.         ... 0.         1.         0.        ]\n",
            " [0.         0.         0.         ... 0.         0.         0.        ]\n",
            " ...\n",
            " [0.52631579 0.         0.         ... 0.         0.38461538 0.33333333]\n",
            " [0.53846154 1.         0.         ... 0.38461538 0.         0.4       ]\n",
            " [0.8        0.         0.         ... 0.33333333 0.4        0.        ]]\n"
          ]
        }
      ]
    },
    {
      "cell_type": "markdown",
      "source": [
        "Performing K-mediod clustering repeatedly,using different random starting points in each iteration"
      ],
      "metadata": {
        "id": "72RWDt6NzESD"
      }
    },
    {
      "cell_type": "code",
      "source": [
        "import random\n",
        "numbers = [0,1,2]\n",
        "store_variance = float('inf')\n",
        "store_medoids = []\n",
        "store_cluster_1 = []\n",
        "store_cluster_2 = []\n",
        "store_cluster_3 = []\n",
        "\n",
        "\n",
        "for item1 in range(20):\n",
        "  K=3\n",
        "  medoids = list(np.random.choice(column_names,K))\n",
        "\n",
        "  for item2 in range(20):\n",
        "    dict_cluster = {medoids[0]:[],medoids[1]:[],medoids[2]:[]}\n",
        "    medoid_index_1 = column_names.index(medoids[0])\n",
        "    medoid_index_2 = column_names.index(medoids[1])\n",
        "    medoid_index_3 = column_names.index(medoids[2])\n",
        "\n",
        "    for item3 in column_names:\n",
        "      if item3 not in medoids:\n",
        "\n",
        "        item_ind = column_names.index(item3)\n",
        "\n",
        "        if(m_matrix[item_ind][medoid_index_1] > m_matrix[item_ind][medoid_index_2] and m_matrix[item_ind][medoid_index_1] > m_matrix[item_ind][medoid_index_3]):\n",
        "          dict_cluster[medoids[0]].append(item3)\n",
        "\n",
        "        elif(m_matrix[item_ind][medoid_index_2] > m_matrix[item_ind][medoid_index_1] and m_matrix[item_ind][medoid_index_2] > m_matrix[item_ind][medoid_index_3]):\n",
        "          dict_cluster[medoids[1]].append(item3)\n",
        "\n",
        "        elif(m_matrix[item_ind][medoid_index_3] > m_matrix[item_ind][medoid_index_1] and m_matrix[item_ind][medoid_index_3] > m_matrix[item_ind][medoid_index_2]):\n",
        "          dict_cluster[medoids[2]].append(item3)\n",
        "\n",
        "        elif(m_matrix[item_ind][medoid_index_3] == m_matrix[item_ind][medoid_index_1] and m_matrix[item_ind][medoid_index_3] == m_matrix[item_ind][medoid_index_2]):\n",
        "          dict_cluster[medoids[random.choice(numbers)]].append(item3)\n",
        "\n",
        "        elif(m_matrix[item_ind][medoid_index_3] == m_matrix[item_ind][medoid_index_2]):\n",
        "          dict_cluster[medoids[random.choice([2,1])]].append(item3)\n",
        "\n",
        "        elif(m_matrix[item_ind][medoid_index_1] == m_matrix[item_ind][medoid_index_2]):\n",
        "          dict_cluster[medoids[random.choice([0,1])]].append(item3)\n",
        "\n",
        "        else:\n",
        "          dict_cluster[medoids[random.choice([0,2])]].append(item3)\n",
        "\n",
        "\n",
        "    keys = list(dict_cluster.keys())\n",
        "    if (len(keys)==3):\n",
        "\n",
        "      final_variance = 0\n",
        "      for key, val in dict_cluster.items():\n",
        "\n",
        "        sum = 0\n",
        "        value_1 = column_names.index(key)\n",
        "        for item_1 in val:\n",
        "          value_2 = column_names.index(item_1)\n",
        "          sum += (m_matrix[value_1][value_2])\n",
        "        if(len(dict_cluster[key])!=0):\n",
        "          v1_value = (sum/float(len(dict_cluster[key])))\n",
        "        final_variance = final_variance + v1_value\n",
        "\n",
        "      if final_variance <= store_variance:\n",
        "        store_variance = final_variance\n",
        "        store_centroids = medoids\n",
        "        store_cluster_1 = dict_cluster[keys[0]]\n",
        "        store_cluster_2 = dict_cluster[keys[1]]\n",
        "        store_cluster_3 = dict_cluster[keys[2]]\n",
        "\n",
        "    cluster_1 = list(dict_cluster[medoids[0]])\n",
        "    cluster_1.append(medoids[0])\n",
        "\n",
        "    cluster_2 = list(dict_cluster[medoids[1]])\n",
        "    cluster_2.append(medoids[1])\n",
        "\n",
        "    cluster_3 = list(dict_cluster[medoids[2]])\n",
        "    cluster_3.append(medoids[2])\n",
        "\n",
        "    def find_max_distance_index(lst):\n",
        "        max_distance_sum = float('-inf')\n",
        "        max_distance_index = -1\n",
        "        for i in range(len(lst)):\n",
        "            distance_sum = 0\n",
        "            for j in range(len(lst)):\n",
        "                if i != j:\n",
        "                    distance_sum += m_matrix[i][j]\n",
        "            if distance_sum >= max_distance_sum:\n",
        "                max_distance_sum = distance_sum\n",
        "                max_distance_index = i\n",
        "        return max_distance_index\n",
        "\n",
        "    medoids[0] = cluster_1[find_max_distance_index(cluster_1)]\n",
        "    medoids[1] = cluster_2[find_max_distance_index(cluster_2)]\n",
        "    medoids[2] = cluster_3[find_max_distance_index(cluster_3)]\n"
      ],
      "metadata": {
        "id": "qgnMAEVk3wLc"
      },
      "execution_count": null,
      "outputs": []
    },
    {
      "cell_type": "markdown",
      "source": [
        "**No of Clusters = 3**"
      ],
      "metadata": {
        "id": "HGL0OV5g0FKv"
      }
    },
    {
      "cell_type": "code",
      "source": [
        "print(store_centroids)\n",
        "print(store_variance)\n",
        "print(store_cluster_1)\n",
        "print(store_cluster_2)\n",
        "print(store_cluster_3)\n",
        "print(len(store_cluster_1))\n",
        "print(len(store_cluster_2))\n",
        "print(len(store_cluster_3))"
      ],
      "metadata": {
        "colab": {
          "base_uri": "https://localhost:8080/"
        },
        "id": "G6bL6OIOm_lQ",
        "outputId": "fabcf766-a795-4e18-e81d-13048eac0acd"
      },
      "execution_count": null,
      "outputs": [
        {
          "output_type": "stream",
          "name": "stdout",
          "text": [
            "['F10G2', 'F11D2', 'F10D1']\n",
            "1.1231988249845393\n",
            "['F10A5', 'F10D5', 'F10F5', 'F10G2', 'F11D2', 'F11G3', 'F11G4', 'F12B1', 'F12E6', 'F12F5', 'F15A6', 'F15C6', 'F15E7', 'F15F1', 'F16A2', 'F16B1', 'F16B2', 'F16D6', 'F17A7', 'F17B7', 'F17C2', 'F17D6', 'F17E6', 'F18E1', 'F5A4', 'F5B1', 'F5B2', 'F5B3', 'F5B4', 'F5E2', 'F5F2', 'F6A4', 'F6B2', 'F6C4', 'F6E2', 'F6F4', 'F6G2', 'F7A3', 'F7B5', 'F7D6', 'F7E2', 'F7E6', 'F7G2', 'F8A1', 'F8A2', 'F8B2', 'F8B5', 'F8D3', 'F8E6', 'F8G2', 'F9A3', 'F9A4', 'F9B6', 'F9C5', 'F9D3', 'F9F3']\n",
            "['F10B3', 'F10B5', 'F10F3', 'F11B1', 'F11B5', 'F12B3', 'F12C6', 'F12D4', 'F12E5', 'F12G1', 'F15A5', 'F15C5', 'F15C8', 'F15E1', 'F15E5', 'F15F3', 'F15F5', 'F15F6', 'F16A4', 'F16B3', 'F16C1', 'F16G4', 'F17F3', 'F18B2', 'F18B4', 'F18C4', 'F18E2', 'F5C1', 'F5C4', 'F5D1', 'F5E4', 'F5G2', 'F6C2', 'F6D2', 'F6F2', 'F6G3', 'F7B2', 'F7B4', 'F7B6', 'F7C2', 'F7D2', 'F7D3', 'F7D4', 'F7F2', 'F8B4', 'F8C5', 'F8G1', 'F9A5', 'F9G3']\n",
            "['F10A3', 'F10C3', 'F10C4', 'F10D1', 'F10E3', 'F10E5', 'F10F1', 'F11A3', 'F11A6', 'F11B2', 'F11C2', 'F11D1', 'F11D4', 'F12B2', 'F12E1', 'F12E4', 'F12F1', 'F15A3', 'F15B5', 'F15D1', 'F15D2', 'F15E2', 'F15F8', 'F15H1', 'F15H5', 'F16A5', 'F16B6', 'F16F4', 'F16G3', 'F16G6', 'F17B1', 'F17C1', 'F17C7', 'F17E7', 'F17F5', 'F17G3', 'F17G5', 'F18F2', 'F3F1', 'F5A2', 'F5C2', 'F6B4', 'F6E4', 'F7A6', 'F7B1', 'F7C1', 'F7C6', 'F7F3', 'F7F6', 'F7G5', 'F8D4', 'F9A2', 'F9B4', 'F9D6', 'F9F2']\n",
            "56\n",
            "49\n",
            "55\n"
          ]
        }
      ]
    },
    {
      "cell_type": "code",
      "source": [
        "store_cluster_1.append(store_centroids[0])\n",
        "store_cluster_2.append(store_centroids[1])\n",
        "store_cluster_3.append(store_centroids[2])\n",
        "df_cluster_1 = hist_data[store_cluster_1]\n",
        "df_cluster_2 = hist_data[store_cluster_2]\n",
        "df_cluster_3 = hist_data[store_cluster_3]\n",
        "matrix_cluster_1 = df_cluster_1.to_numpy()\n",
        "matrix_cluster_2 = df_cluster_2.to_numpy()\n",
        "matrix_cluster_3 = df_cluster_3.to_numpy()"
      ],
      "metadata": {
        "id": "NZAIcpfZpcln"
      },
      "execution_count": null,
      "outputs": []
    },
    {
      "cell_type": "code",
      "source": [
        "import matplotlib.pyplot as mp\n",
        "import pandas as pd\n",
        "import seaborn as sb\n",
        "\n",
        "# plotting correlation heatmap\n",
        "#cluster1\n",
        "dataplot=sb.heatmap(matrix_cluster_1)\n",
        "mp.show()\n",
        "\n",
        "#cluster2\n",
        "dataplot=sb.heatmap(matrix_cluster_2)\n",
        "mp.show()\n",
        "\n",
        "#cluster3\n",
        "dataplot=sb.heatmap(matrix_cluster_3)\n",
        "mp.show()"
      ],
      "metadata": {
        "id": "o5RDmpqQqUfM",
        "colab": {
          "base_uri": "https://localhost:8080/",
          "height": 776
        },
        "outputId": "90f33a4f-65c2-476a-892f-5fe5af457650"
      },
      "execution_count": null,
      "outputs": [
        {
          "output_type": "display_data",
          "data": {
            "text/plain": [
              "<Figure size 432x288 with 2 Axes>"
            ],
            "image/png": "[encoded data removed]"
          },
          "metadata": {
            "needs_background": "light"
          }
        },
        {
          "output_type": "display_data",
          "data": {
            "text/plain": [
              "<Figure size 432x288 with 2 Axes>"
            ],
            "image/png": "[encoded data removed]"
          },
          "metadata": {
            "needs_background": "light"
          }
        },
        {
          "output_type": "display_data",
          "data": {
            "text/plain": [
              "<Figure size 432x288 with 2 Axes>"
            ],
            "image/png": "[encoded data removed]"
          },
          "metadata": {
            "needs_background": "light"
          }
        }
      ]
    },
    {
      "cell_type": "markdown",
      "source": [
        "Identifying if there is a pattern of features in each cluster by calculating the percentage of windows in each NP that contain histone genes."
      ],
      "metadata": {
        "id": "ieRL0CsjCWRr"
      }
    },
    {
      "cell_type": "code",
      "source": [
        "lad_percentage_cluster1 =[]\n",
        "hist1_percentage_cluster1 = []\n",
        "\n",
        "for np1 in store_cluster_1:\n",
        "  np_list1 = list(hist_data[np1])\n",
        "  lad_m11_cluster1 = 0\n",
        "  hist1_m11_cluster1 = 0\n",
        "\n",
        "  for v1 in range(len(lad_data)):\n",
        "    if(lad_data.iat[v1,0]==1 and np_list1[v1]==1):\n",
        "      lad_m11_cluster1  = lad_m11_cluster1 + 1\n",
        "    if(hist1_data.iat[v1,0]==1 and np_list1[v1]==1):\n",
        "      hist1_m11_cluster1 = hist1_m11_cluster1 + 1\n",
        "\n",
        "  lad_percentage1 = ((lad_m11_cluster1)/hist_data[np1].sum())*100\n",
        "  lad_percentage_cluster1.append(lad_percentage1)\n",
        "\n",
        "  hist1_percentage1 = ((hist1_m11_cluster1)/hist_data[np1].sum())*100\n",
        "  hist1_percentage_cluster1.append(hist1_percentage1)\n",
        "\n"
      ],
      "metadata": {
        "id": "RDGRdWln1LAY"
      },
      "execution_count": null,
      "outputs": []
    },
    {
      "cell_type": "code",
      "source": [
        "print (lad_percentage_cluster1)\n",
        "print (len(lad_percentage_cluster1))\n",
        "print (hist1_percentage_cluster1)\n",
        "print (len(hist1_percentage_cluster1))"
      ],
      "metadata": {
        "colab": {
          "base_uri": "https://localhost:8080/"
        },
        "id": "JGL_jbMr87LT",
        "outputId": "899de50e-dfcd-4f48-be05-ccf379dbe1af"
      },
      "execution_count": null,
      "outputs": [
        {
          "output_type": "stream",
          "name": "stdout",
          "text": [
            "[100.0, 100.0, 0.0, 57.49999999999999, 81.81818181818183, 50.0, 0.0, 0.0, 0.0, 41.509433962264154, 92.0, 80.0, 63.888888888888886, 100.0, 0.0, 83.33333333333334, 79.3103448275862, 0.0, 62.5, 57.14285714285714, 57.14285714285714, 12.5, 33.33333333333333, 100.0, 55.55555555555556, 57.99999999999999, 72.72727272727273, 33.33333333333333, 88.88888888888889, 100.0, 100.0, 53.96825396825397, 0.0, 78.94736842105263, 100.0, 33.33333333333333, 100.0, 25.0, 100.0, 0.0, 0.0, 0.0, 0.0, 56.25, 0.0, 25.0, 58.82352941176471, 65.0, 42.857142857142854, 50.0, 25.0, 0.0, 38.88888888888889, 26.666666666666668, 0.0, 57.692307692307686, 57.49999999999999]\n",
            "57\n",
            "[0.0, 0.0, 44.44444444444444, 15.0, 0.0, 16.666666666666664, 0.0, 0.0, 50.0, 16.9811320754717, 0.0, 0.0, 8.333333333333332, 0.0, 0.0, 0.0, 3.4482758620689653, 57.14285714285714, 6.25, 14.285714285714285, 0.0, 37.5, 33.33333333333333, 0.0, 0.0, 6.0, 3.0303030303030303, 11.11111111111111, 0.0, 0.0, 0.0, 15.873015873015872, 0.0, 5.263157894736842, 0.0, 33.33333333333333, 0.0, 25.0, 0.0, 100.0, 20.0, 100.0, 100.0, 18.75, 66.66666666666666, 0.0, 11.76470588235294, 12.5, 0.0, 0.0, 25.0, 0.0, 16.666666666666664, 26.666666666666668, 22.22222222222222, 3.8461538461538463, 15.0]\n",
            "57\n"
          ]
        }
      ]
    },
    {
      "cell_type": "code",
      "source": [
        "lad_percentage_cluster2 =[]\n",
        "hist1_percentage_cluster2 = []\n",
        "\n",
        "for np2 in store_cluster_2:\n",
        "  np_list2 = list(hist_data[np2])\n",
        "  lad_m11_cluster2 = 0\n",
        "  hist1_m11_cluster2 = 0\n",
        "\n",
        "  for v2 in range(len(lad_data)):\n",
        "    if(lad_data.iat[v2,0]==1 and np_list2[v2]==1):\n",
        "      lad_m11_cluster2  = lad_m11_cluster2 + 1\n",
        "    if(hist1_data.iat[v2,0]==1 and np_list2[v2]==1):\n",
        "      hist1_m11_cluster2 = hist1_m11_cluster2 + 1\n",
        "\n",
        "  lad_percentage2 = ((lad_m11_cluster2)/hist_data[np2].sum())*100\n",
        "  lad_percentage_cluster2.append(lad_percentage2)\n",
        "\n",
        "  hist1_percentage2 = ((hist1_m11_cluster2)/hist_data[np2].sum())*100\n",
        "  hist1_percentage_cluster2.append(hist1_percentage2)"
      ],
      "metadata": {
        "id": "a7Va5dq0-0hh"
      },
      "execution_count": null,
      "outputs": []
    },
    {
      "cell_type": "code",
      "source": [
        "print (lad_percentage_cluster2)\n",
        "print (len(lad_percentage_cluster2))\n",
        "print (hist1_percentage_cluster2)\n",
        "print (len(hist1_percentage_cluster2))"
      ],
      "metadata": {
        "colab": {
          "base_uri": "https://localhost:8080/"
        },
        "id": "OC3mSfqj-1DQ",
        "outputId": "6e087632-a60e-4ee2-ce21-6c5536332b08"
      },
      "execution_count": null,
      "outputs": [
        {
          "output_type": "stream",
          "name": "stdout",
          "text": [
            "[100.0, 41.7910447761194, 0.0, 12.5, 16.666666666666664, 88.88888888888889, 0.0, 100.0, 0.0, 5.88235294117647, 0.0, 16.666666666666664, 52.63157894736842, 75.0, 6.666666666666667, 100.0, 9.090909090909092, 100.0, 33.33333333333333, 85.71428571428571, 100.0, 16.666666666666664, 40.0, 4.761904761904762, 28.57142857142857, 0.0, 0.0, 71.42857142857143, 100.0, 33.33333333333333, 62.5, 100.0, 100.0, 9.090909090909092, 71.42857142857143, 50.0, 0.0, 88.88888888888889, 0.0, 0.0, 0.0, 0.0, 42.30769230769231, 0.0, 0.0, 54.054054054054056, 50.0, 0.0, 40.0, 81.81818181818183]\n",
            "50\n",
            "[0.0, 20.8955223880597, 37.5, 25.0, 50.0, 11.11111111111111, 40.0, 0.0, 22.22222222222222, 41.17647058823529, 0.0, 22.22222222222222, 21.052631578947366, 10.0, 26.666666666666668, 0.0, 31.818181818181817, 0.0, 33.33333333333333, 0.0, 0.0, 16.666666666666664, 10.0, 38.095238095238095, 21.428571428571427, 0.0, 40.0, 0.0, 0.0, 0.0, 12.5, 0.0, 0.0, 36.36363636363637, 7.142857142857142, 0.0, 100.0, 0.0, 72.72727272727273, 50.0, 50.0, 0.0, 30.76923076923077, 100.0, 0.0, 10.81081081081081, 16.666666666666664, 20.0, 0.0, 0.0]\n",
            "50\n"
          ]
        }
      ]
    },
    {
      "cell_type": "code",
      "source": [
        "lad_percentage_cluster3 =[]\n",
        "hist1_percentage_cluster3 = []\n",
        "\n",
        "for np3 in store_cluster_3:\n",
        "  np_list3 = list(hist_data[np3])\n",
        "  lad_m11_cluster3 = 0\n",
        "  hist1_m11_cluster3 = 0\n",
        "\n",
        "  for v3 in range(len(lad_data)):\n",
        "    if(lad_data.iat[v3,0]==1 and np_list3[v3]==1):\n",
        "      lad_m11_cluster3  = lad_m11_cluster3 + 1\n",
        "    if(hist1_data.iat[v3,0]==1 and np_list2[v3]==1):\n",
        "      hist1_m11_cluster3 = hist1_m11_cluster3 + 1\n",
        "\n",
        "  lad_percentage3 = ((lad_m11_cluster3)/hist_data[np3].sum())*100\n",
        "  lad_percentage_cluster3.append(lad_percentage3)\n",
        "\n",
        "  hist1_percentage3 = ((hist1_m11_cluster3)/hist_data[np3].sum())*100\n",
        "  hist1_percentage_cluster3.append(hist1_percentage3)"
      ],
      "metadata": {
        "id": "SS_xb2V__vcS"
      },
      "execution_count": null,
      "outputs": []
    },
    {
      "cell_type": "code",
      "source": [
        "print (lad_percentage_cluster3)\n",
        "print (len(lad_percentage_cluster3))\n",
        "print (hist1_percentage_cluster3)\n",
        "print (len(hist1_percentage_cluster3))"
      ],
      "metadata": {
        "colab": {
          "base_uri": "https://localhost:8080/"
        },
        "id": "MLXmO_HIAYBa",
        "outputId": "6df065d3-4916-436c-dff3-af7a80e60b8e"
      },
      "execution_count": null,
      "outputs": [
        {
          "output_type": "stream",
          "name": "stdout",
          "text": [
            "[38.095238095238095, 50.0, 0.0, 5.714285714285714, 0.0, 50.847457627118644, 48.214285714285715, 52.63157894736842, 28.57142857142857, 0.0, 42.857142857142854, 36.11111111111111, 33.33333333333333, 0.0, 50.0, 50.0, 0.0, 100.0, 0.0, 66.66666666666666, 59.375, 0.0, 0.0, 0.0, 0.0, 58.82352941176471, 0.0, 0.0, 0.0, 4.761904761904762, 0.0, 56.00000000000001, 0.0, 100.0, 33.33333333333333, 5.555555555555555, 35.714285714285715, 14.285714285714285, 38.983050847457626, 100.0, 100.0, 0.0, 6.25, 33.33333333333333, 40.0, 0.0, 14.285714285714285, 44.927536231884055, 0.0, 0.0, 100.0, 0.0, 100.0, 0.0, 34.21052631578947, 5.714285714285714]\n",
            "56\n",
            "[0.0, 0.0, 0.0, 0.0, 0.0, 0.0, 0.0, 0.0, 0.0, 0.0, 0.0, 0.0, 0.0, 0.0, 0.0, 0.0, 0.0, 0.0, 0.0, 0.0, 0.0, 0.0, 0.0, 0.0, 0.0, 0.0, 0.0, 0.0, 0.0, 0.0, 0.0, 0.0, 0.0, 0.0, 0.0, 0.0, 0.0, 0.0, 0.0, 0.0, 0.0, 0.0, 0.0, 0.0, 0.0, 0.0, 0.0, 0.0, 0.0, 0.0, 0.0, 0.0, 0.0, 0.0, 0.0, 0.0]\n",
            "56\n"
          ]
        }
      ]
    },
    {
      "cell_type": "markdown",
      "source": [
        "Visualizing the pattern of both Hist and LAD features in each cluster by generating box plots.\n",
        "\n",
        "X-axis represents the clusters and\n",
        "Y-axis represents the percentage of windows in an NP that contain histone genes"
      ],
      "metadata": {
        "id": "gbOSGp3XDLoq"
      }
    },
    {
      "cell_type": "code",
      "source": [
        "import seaborn\n",
        "Lad_plot1 = pd.DataFrame({\"Cluster 1\":lad_percentage_cluster1})\n",
        "Lad_plot1.boxplot()\n"
      ],
      "metadata": {
        "colab": {
          "base_uri": "https://localhost:8080/",
          "height": 283
        },
        "id": "-VJBxFVJBUiL",
        "outputId": "c29c1889-fd5d-4a58-e635-8a25651728ac"
      },
      "execution_count": null,
      "outputs": [
        {
          "output_type": "execute_result",
          "data": {
            "text/plain": [
              "<AxesSubplot:>"
            ]
          },
          "metadata": {},
          "execution_count": 89
        },
        {
          "output_type": "display_data",
          "data": {
            "text/plain": [
              "<Figure size 432x288 with 1 Axes>"
            ],
            "image/png": "[encoded data removed]"
          },
          "metadata": {
            "needs_background": "light"
          }
        }
      ]
    },
    {
      "cell_type": "code",
      "source": [
        "Lad_plot2 = pd.DataFrame({\"Cluster 2\":lad_percentage_cluster2})\n",
        "Lad_plot2.boxplot()\n"
      ],
      "metadata": {
        "colab": {
          "base_uri": "https://localhost:8080/",
          "height": 283
        },
        "id": "LFtv2JbHAUmH",
        "outputId": "b11eef9a-9e19-4714-a366-77a8c3f19e6f"
      },
      "execution_count": null,
      "outputs": [
        {
          "output_type": "execute_result",
          "data": {
            "text/plain": [
              "<AxesSubplot:>"
            ]
          },
          "metadata": {},
          "execution_count": 90
        },
        {
          "output_type": "display_data",
          "data": {
            "text/plain": [
              "<Figure size 432x288 with 1 Axes>"
            ],
            "image/png": "[encoded data removed]"
          },
          "metadata": {
            "needs_background": "light"
          }
        }
      ]
    },
    {
      "cell_type": "code",
      "source": [
        "Lad_plot3 = pd.DataFrame({\"Cluster 3\":lad_percentage_cluster3})\n",
        "Lad_plot3.boxplot()"
      ],
      "metadata": {
        "colab": {
          "base_uri": "https://localhost:8080/",
          "height": 283
        },
        "id": "5va9bvEQAW8C",
        "outputId": "7f40cc8d-a2cb-42ec-fac3-0813f40c3089"
      },
      "execution_count": null,
      "outputs": [
        {
          "output_type": "execute_result",
          "data": {
            "text/plain": [
              "<AxesSubplot:>"
            ]
          },
          "metadata": {},
          "execution_count": 91
        },
        {
          "output_type": "display_data",
          "data": {
            "text/plain": [
              "<Figure size 432x288 with 1 Axes>"
            ],
            "image/png": "[encoded data removed]"
          },
          "metadata": {
            "needs_background": "light"
          }
        }
      ]
    },
    {
      "cell_type": "code",
      "source": [
        "hist1_plot1 = pd.DataFrame({\"Cluster 1\":hist1_percentage_cluster1})\n",
        "hist1_plot1.boxplot()\n"
      ],
      "metadata": {
        "colab": {
          "base_uri": "https://localhost:8080/",
          "height": 283
        },
        "id": "VZQkRWDZERJ_",
        "outputId": "5cc39856-8326-408f-cf94-e008665fc3e2"
      },
      "execution_count": null,
      "outputs": [
        {
          "output_type": "execute_result",
          "data": {
            "text/plain": [
              "<AxesSubplot:>"
            ]
          },
          "metadata": {},
          "execution_count": 92
        },
        {
          "output_type": "display_data",
          "data": {
            "text/plain": [
              "<Figure size 432x288 with 1 Axes>"
            ],
            "image/png": "[encoded data removed]"
          },
          "metadata": {
            "needs_background": "light"
          }
        }
      ]
    },
    {
      "cell_type": "code",
      "source": [
        "hist1_plot2 = pd.DataFrame({\"Cluster 2\":hist1_percentage_cluster2})\n",
        "hist1_plot2.boxplot()"
      ],
      "metadata": {
        "colab": {
          "base_uri": "https://localhost:8080/",
          "height": 283
        },
        "id": "bUATfg5HA-Ap",
        "outputId": "bce21f80-5df5-44be-a0c6-c8bf8d9bb865"
      },
      "execution_count": null,
      "outputs": [
        {
          "output_type": "execute_result",
          "data": {
            "text/plain": [
              "<AxesSubplot:>"
            ]
          },
          "metadata": {},
          "execution_count": 93
        },
        {
          "output_type": "display_data",
          "data": {
            "text/plain": [
              "<Figure size 432x288 with 1 Axes>"
            ],
            "image/png": "[encoded data removed]"
          },
          "metadata": {
            "needs_background": "light"
          }
        }
      ]
    },
    {
      "cell_type": "code",
      "source": [
        "hist1_plot3 = pd.DataFrame({\"Cluster 3\":hist1_percentage_cluster3})\n",
        "hist1_plot3.boxplot()"
      ],
      "metadata": {
        "colab": {
          "base_uri": "https://localhost:8080/",
          "height": 283
        },
        "id": "TI34oVL2A946",
        "outputId": "a7dee273-155b-4cf1-eea6-16575f3da79d"
      },
      "execution_count": null,
      "outputs": [
        {
          "output_type": "execute_result",
          "data": {
            "text/plain": [
              "<AxesSubplot:>"
            ]
          },
          "metadata": {},
          "execution_count": 94
        },
        {
          "output_type": "display_data",
          "data": {
            "text/plain": [
              "<Figure size 432x288 with 1 Axes>"
            ],
            "image/png": "[encoded data removed]"
          },
          "metadata": {
            "needs_background": "light"
          }
        }
      ]
    },
    {
      "cell_type": "markdown",
      "source": [
        "Characterizing each cluster by radial position and checking if there is any pattern in best set of clusters based on the radial positions of NPs"
      ],
      "metadata": {
        "id": "XGawAcYieuoV"
      }
    },
    {
      "cell_type": "code",
      "source": [
        "import numpy as np\n",
        "\n",
        "column_names = df.columns[3:]\n",
        "# print (column_names)\n",
        "column_names_list = list(column_names)\n",
        "# print (column_names_list)\n",
        "\n",
        "df_new = df.sum(axis=0)\n",
        "lis = list(df_new.drop([\"chrom\",\"start\",\"stop\"]))\n",
        "\n",
        "np.quantile(lis,[0.2, 0.4, 0.6, 0.8, 1])\n",
        "\n",
        "dict_new = {1:[],2:[],3:[],4:[],5:[]}\n",
        "\n",
        "for ind,item in enumerate(lis):\n",
        "  if (item <= 2665):\n",
        "    dict_new[1].append(column_names_list[ind])\n",
        "  elif (item>2665 and item<=4209.6):\n",
        "    dict_new[2].append(column_names_list[ind])\n",
        "  elif (item>4209 and item<=5668):\n",
        "    dict_new[3].append(column_names_list[ind])\n",
        "  elif (item>5668 and item<=7834):\n",
        "    dict_new[4].append(column_names_list[ind])\n",
        "  elif (item>7834 and item<=21249):\n",
        "    dict_new[5].append(column_names_list[ind])"
      ],
      "metadata": {
        "id": "76Qsnx4oTwr7"
      },
      "execution_count": null,
      "outputs": []
    },
    {
      "cell_type": "markdown",
      "source": [
        "Calculating percentages of NPs in each radial position category"
      ],
      "metadata": {
        "id": "sn30xcjIIOhv"
      }
    },
    {
      "cell_type": "code",
      "source": [
        "count_nps_cluster1 = [0,0,0,0,0]\n",
        "radial_pos = [\"strongly apical\",\"somewhat apical\",\"neither apical nor equatorial\",\"somewhat equatorial\",\"strongly equatorial\"]\n",
        "for nps_cluster1 in store_cluster_1:\n",
        "  if nps_cluster1 in dict_new[1]:\n",
        "    # print(nps,radial_pos[0])\n",
        "    count_nps_cluster1[0] += 1\n",
        "  elif nps_cluster1 in dict_new[2]:\n",
        "    # print(nps,radial_pos[1])\n",
        "    count_nps_cluster1[1] += 1\n",
        "  elif nps_cluster1 in dict_new[3]:\n",
        "    # print(nps,radial_pos[2])\n",
        "    count_nps_cluster1[2] += 1\n",
        "  elif nps_cluster1 in dict_new[4]:\n",
        "    # print(nps,radial_pos[3])\n",
        "    count_nps_cluster1[3] += 1\n",
        "  elif nps_cluster1 in dict_new[5]:\n",
        "    # print(nps,radial_pos[4])\n",
        "    count_nps_cluster1[4] += 1\n",
        "\n",
        "percentage1_cluster1 = (count_nps_cluster1[0]/(len(store_cluster_1))*100)\n",
        "percentage2_cluster1 = (count_nps_cluster1[1]/(len(store_cluster_1))*100)\n",
        "percentage3_cluster1 = (count_nps_cluster1[2]/(len(store_cluster_1))*100)\n",
        "percentage4_cluster1 = (count_nps_cluster1[3]/(len(store_cluster_1))*100)\n",
        "percentage5_cluster1 = (count_nps_cluster1[4]/(len(store_cluster_1))*100)\n",
        "\n",
        "percentage_cluster1 = []\n",
        "percentage_cluster1.extend([percentage1_cluster1, percentage2_cluster1, percentage3_cluster1, percentage4_cluster1, percentage5_cluster1])\n"
      ],
      "metadata": {
        "id": "FOG9dQLNWAC-"
      },
      "execution_count": null,
      "outputs": []
    },
    {
      "cell_type": "code",
      "source": [
        "# print(percentage1_cluster1)\n",
        "# print(percentage2_cluster1)\n",
        "# print(percentage3_cluster1)\n",
        "# print(percentage4_cluster1)\n",
        "# print(percentage5_cluster1)\n",
        "percentage_cluster1"
      ],
      "metadata": {
        "colab": {
          "base_uri": "https://localhost:8080/"
        },
        "id": "YPKZ_6UxXTE-",
        "outputId": "602af8c7-9358-4004-8e98-9fe3fc6c26bb"
      },
      "execution_count": null,
      "outputs": [
        {
          "output_type": "execute_result",
          "data": {
            "text/plain": [
              "[10.526315789473683,\n",
              " 21.052631578947366,\n",
              " 17.543859649122805,\n",
              " 19.298245614035086,\n",
              " 31.57894736842105]"
            ]
          },
          "metadata": {},
          "execution_count": 97
        }
      ]
    },
    {
      "cell_type": "markdown",
      "source": [
        "Visualizing percentages of NPs in each radial position category with the help of bar charts.\n",
        "\n",
        "Five bars- each bar for each radial position category and height of a bar is number of NPs that were classified as being in a particular radial position category."
      ],
      "metadata": {
        "id": "D8DYQ0jPI1so"
      }
    },
    {
      "cell_type": "code",
      "source": [
        "import matplotlib.pyplot as plt\n",
        "\n",
        "x_axis1 = (\"strongly apical\",\"somewhat apical\",\"neither apical nor equatorial\",\"somewhat equatorial\",\"strongly equatorial\")\n",
        "y_axis1 = percentage_cluster1\n",
        "\n",
        "plt.xticks(rotation = 45)\n",
        "plt.bar(x_axis1, y_axis1)\n",
        "plt.ylabel('Percentage of NPs')\n",
        "plt.title('Cluster1 Barchart')\n",
        "\n",
        "plt.show()"
      ],
      "metadata": {
        "colab": {
          "base_uri": "https://localhost:8080/",
          "height": 379
        },
        "id": "9b-3wO2aY0zv",
        "outputId": "ff975226-c600-4cee-e986-f4f84cdb20fc"
      },
      "execution_count": null,
      "outputs": [
        {
          "output_type": "display_data",
          "data": {
            "text/plain": [
              "<Figure size 432x288 with 1 Axes>"
            ],
            "image/png": "[encoded data removed]"
          },
          "metadata": {
            "needs_background": "light"
          }
        }
      ]
    },
    {
      "cell_type": "code",
      "source": [
        "count_nps_cluster2 = [0,0,0,0,0]\n",
        "radial_pos = [\"strongly apical\",\"somewhat apical\",\"neither apical nor equatorial\",\"somewhat equatorial\",\"strongly equatorial\"]\n",
        "for nps_cluster2 in store_cluster_2:\n",
        "  if nps_cluster2 in dict_new[1]:\n",
        "    # print(nps,radial_pos[0])\n",
        "    count_nps_cluster2[0] += 1\n",
        "  elif nps_cluster2 in dict_new[2]:\n",
        "    # print(nps,radial_pos[1])\n",
        "    count_nps_cluster2[1] += 1\n",
        "  elif nps_cluster2 in dict_new[3]:\n",
        "    # print(nps,radial_pos[2])\n",
        "    count_nps_cluster2[2] += 1\n",
        "  elif nps_cluster2 in dict_new[4]:\n",
        "    # print(nps,radial_pos[3])\n",
        "    count_nps_cluster2[3] += 1\n",
        "  elif nps_cluster2 in dict_new[5]:\n",
        "    # print(nps,radial_pos[4])\n",
        "    count_nps_cluster2[4] += 1\n",
        "\n",
        "percentage1_cluster2 = (count_nps_cluster2[0]/(len(store_cluster_2))*100)\n",
        "percentage2_cluster2 = (count_nps_cluster2[1]/(len(store_cluster_2))*100)\n",
        "percentage3_cluster2 = (count_nps_cluster2[2]/(len(store_cluster_2))*100)\n",
        "percentage4_cluster2 = (count_nps_cluster2[3]/(len(store_cluster_2))*100)\n",
        "percentage5_cluster2 = (count_nps_cluster2[4]/(len(store_cluster_2))*100)\n",
        "\n",
        "percentage_cluster2 = []\n",
        "percentage_cluster2.extend([percentage1_cluster2, percentage2_cluster2, percentage3_cluster2, percentage4_cluster2, percentage5_cluster2])\n"
      ],
      "metadata": {
        "id": "KkO_sg5lhSkx"
      },
      "execution_count": null,
      "outputs": []
    },
    {
      "cell_type": "code",
      "source": [
        "percentage_cluster2"
      ],
      "metadata": {
        "colab": {
          "base_uri": "https://localhost:8080/"
        },
        "id": "BayXtHzZy0YB",
        "outputId": "b9da00ea-b788-4f95-a333-8d02fef4273a"
      },
      "execution_count": null,
      "outputs": [
        {
          "output_type": "execute_result",
          "data": {
            "text/plain": [
              "[10.0, 22.0, 18.0, 30.0, 20.0]"
            ]
          },
          "metadata": {},
          "execution_count": 100
        }
      ]
    },
    {
      "cell_type": "code",
      "source": [
        "x_axis2 = (\"strongly apical\",\"somewhat apical\",\"neither apical nor equatorial\",\"somewhat equatorial\",\"strongly equatorial\")\n",
        "y_axis2 = percentage_cluster2\n",
        "\n",
        "plt.xticks(rotation = 45)\n",
        "plt.bar(x_axis2, y_axis2)\n",
        "plt.ylabel('Percentage of NPs')\n",
        "plt.title('Cluster2 Barchart')\n",
        "\n",
        "plt.show()"
      ],
      "metadata": {
        "colab": {
          "base_uri": "https://localhost:8080/",
          "height": 379
        },
        "id": "xE_gvrdteGUt",
        "outputId": "5ff69760-6264-4b86-91d9-88033c1ee993"
      },
      "execution_count": null,
      "outputs": [
        {
          "output_type": "display_data",
          "data": {
            "text/plain": [
              "<Figure size 432x288 with 1 Axes>"
            ],
            "image/png": "[encoded data removed]"
          },
          "metadata": {
            "needs_background": "light"
          }
        }
      ]
    },
    {
      "cell_type": "code",
      "source": [
        "count_nps_cluster3 = [0,0,0,0,0]\n",
        "radial_pos = [\"strongly apical\",\"somewhat apical\",\"neither apical nor equatorial\",\"somewhat equatorial\",\"strongly equatorial\"]\n",
        "for nps_cluster3 in store_cluster_3:\n",
        "  if nps_cluster3 in dict_new[1]:\n",
        "    # print(nps,radial_pos[0])\n",
        "    count_nps_cluster3[0] += 1\n",
        "  elif nps_cluster3 in dict_new[2]:\n",
        "    # print(nps,radial_pos[1])\n",
        "    count_nps_cluster3[1] += 1\n",
        "  elif nps_cluster3 in dict_new[3]:\n",
        "    # print(nps,radial_pos[2])\n",
        "    count_nps_cluster3[2] += 1\n",
        "  elif nps_cluster3 in dict_new[4]:\n",
        "    # print(nps,radial_pos[3])\n",
        "    count_nps_cluster3[3] += 1\n",
        "  elif nps_cluster3 in dict_new[5]:\n",
        "    # print(nps,radial_pos[4])\n",
        "    count_nps_cluster3[4] += 1\n",
        "\n",
        "percentage1_cluster3 = (count_nps_cluster3[0]/(len(store_cluster_3))*100)\n",
        "percentage2_cluster3 = (count_nps_cluster3[1]/(len(store_cluster_3))*100)\n",
        "percentage3_cluster3 = (count_nps_cluster3[2]/(len(store_cluster_3))*100)\n",
        "percentage4_cluster3 = (count_nps_cluster3[3]/(len(store_cluster_3))*100)\n",
        "percentage5_cluster3 = (count_nps_cluster3[4]/(len(store_cluster_3))*100)\n",
        "\n",
        "percentage_cluster3 = []\n",
        "percentage_cluster3.extend([percentage1_cluster3, percentage2_cluster3, percentage3_cluster3, percentage4_cluster3, percentage5_cluster3])\n"
      ],
      "metadata": {
        "id": "koIOG8mwhSbp"
      },
      "execution_count": null,
      "outputs": []
    },
    {
      "cell_type": "code",
      "source": [
        "percentage_cluster3"
      ],
      "metadata": {
        "colab": {
          "base_uri": "https://localhost:8080/"
        },
        "id": "f0Y09GaRzgi6",
        "outputId": "91446661-3bfb-4af6-b511-023bec545973"
      },
      "execution_count": null,
      "outputs": [
        {
          "output_type": "execute_result",
          "data": {
            "text/plain": [
              "[8.928571428571429,\n",
              " 16.071428571428573,\n",
              " 16.071428571428573,\n",
              " 16.071428571428573,\n",
              " 42.857142857142854]"
            ]
          },
          "metadata": {},
          "execution_count": 103
        }
      ]
    },
    {
      "cell_type": "code",
      "source": [
        "x_axis3 = (\"strongly apical\",\"somewhat apical\",\"neither apical nor equatorial\",\"somewhat equatorial\",\"strongly equatorial\")\n",
        "y_axis3 = percentage_cluster3\n",
        "\n",
        "plt.xticks(rotation = 45)\n",
        "plt.bar(x_axis3, y_axis3)\n",
        "plt.ylabel('Percentage of NPs')\n",
        "plt.title('Cluster3 Barchart')\n",
        "\n",
        "plt.show()"
      ],
      "metadata": {
        "colab": {
          "base_uri": "https://localhost:8080/",
          "height": 379
        },
        "outputId": "7ca14db9-3d59-46c8-f983-baf487420380",
        "id": "NeqALu7PekYH"
      },
      "execution_count": null,
      "outputs": [
        {
          "output_type": "display_data",
          "data": {
            "text/plain": [
              "<Figure size 432x288 with 1 Axes>"
            ],
            "image/png": "[encoded data removed]"
          },
          "metadata": {
            "needs_background": "light"
          }
        }
      ]
    }
  ]
}