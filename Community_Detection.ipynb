{
  "nbformat": 4,
  "nbformat_minor": 0,
  "metadata": {
    "colab": {
      "provenance": []
    },
    "kernelspec": {
      "name": "python3",
      "display_name": "Python 3"
    },
    "language_info": {
      "name": "python"
    }
  },
  "cells": [
    {
      "cell_type": "markdown",
      "source": [
        "reading the data to visualize and characterize 5 communities of strongly interacting windows in the Hist1 region"
      ],
      "metadata": {
        "id": "uj32BwAXUf_X"
      }
    },
    {
      "cell_type": "code",
      "execution_count": null,
      "metadata": {
        "colab": {
          "base_uri": "https://localhost:8080/",
          "height": 487
        },
        "id": "UgVcaw5dxB9I",
        "outputId": "c10a7bb5-2d89-4de0-eb0f-1d65783904de"
      },
      "outputs": [
        {
          "output_type": "execute_result",
          "data": {
            "text/plain": [
              "              chrom   start    stop  F10A2  F10A3  F10A4  F10A5  F10A6  F10B1  \\\n",
              "0              chr1       0   30000      0      0      0      0      0      0   \n",
              "1              chr1   30000   60000      0      0      0      0      0      0   \n",
              "2              chr1   60000   90000      0      0      0      0      0      0   \n",
              "3              chr1   90000  120000      0      0      0      0      0      0   \n",
              "4              chr1  120000  150000      0      0      0      0      0      0   \n",
              "...             ...     ...     ...    ...    ...    ...    ...    ...    ...   \n",
              "90872   chr4_random  150000  160594      0      0      0      0      0      0   \n",
              "90873   chr3_random       0   30000      0      0      0      0      0      0   \n",
              "90874   chr3_random   30000   41899      0      0      0      0      0      0   \n",
              "90875          chrM       0   16299      1      1      1      1      1      1   \n",
              "90876  chr16_random       0    3994      0      0      0      0      0      0   \n",
              "\n",
              "       F10B2  ...  F9F2  F9F3  F9F4  F9F5  F9F6  F9G1  F9G2  F9G3  F9G4  F9G5  \n",
              "0          0  ...     0     0     0     0     0     0     0     0     0     0  \n",
              "1          0  ...     0     0     0     0     0     0     0     0     0     0  \n",
              "2          0  ...     0     0     0     0     0     0     0     0     0     0  \n",
              "3          0  ...     0     0     0     0     0     0     0     0     0     0  \n",
              "4          0  ...     0     0     0     0     0     0     0     0     0     0  \n",
              "...      ...  ...   ...   ...   ...   ...   ...   ...   ...   ...   ...   ...  \n",
              "90872      0  ...     0     0     0     0     0     0     0     0     0     0  \n",
              "90873      0  ...     0     0     0     0     0     0     0     0     0     0  \n",
              "90874      0  ...     0     0     0     0     0     0     0     0     0     0  \n",
              "90875      1  ...     1     1     1     1     1     1     1     1     1     1  \n",
              "90876      0  ...     0     0     0     0     0     0     0     0     0     0  \n",
              "\n",
              "[90877 rows x 411 columns]"
            ],
            "text/html": [
              "\n",
              "  <div id=\"df-1af77073-b4d1-4073-8f98-2a8757841b84\">\n",
              "    <div class=\"colab-df-container\">\n",
              "      <div>\n",
              "<style scoped>\n",
              "    .dataframe tbody tr th:only-of-type {\n",
              "        vertical-align: middle;\n",
              "    }\n",
              "\n",
              "    .dataframe tbody tr th {\n",
              "        vertical-align: top;\n",
              "    }\n",
              "\n",
              "    .dataframe thead th {\n",
              "        text-align: right;\n",
              "    }\n",
              "</style>\n",
              "<table border=\"1\" class=\"dataframe\">\n",
              "  <thead>\n",
              "    <tr style=\"text-align: right;\">\n",
              "      <th></th>\n",
              "      <th>chrom</th>\n",
              "      <th>start</th>\n",
              "      <th>stop</th>\n",
              "      <th>F10A2</th>\n",
              "      <th>F10A3</th>\n",
              "      <th>F10A4</th>\n",
              "      <th>F10A5</th>\n",
              "      <th>F10A6</th>\n",
              "      <th>F10B1</th>\n",
              "      <th>F10B2</th>\n",
              "      <th>...</th>\n",
              "      <th>F9F2</th>\n",
              "      <th>F9F3</th>\n",
              "      <th>F9F4</th>\n",
              "      <th>F9F5</th>\n",
              "      <th>F9F6</th>\n",
              "      <th>F9G1</th>\n",
              "      <th>F9G2</th>\n",
              "      <th>F9G3</th>\n",
              "      <th>F9G4</th>\n",
              "      <th>F9G5</th>\n",
              "    </tr>\n",
              "  </thead>\n",
              "  <tbody>\n",
              "    <tr>\n",
              "      <th>0</th>\n",
              "      <td>chr1</td>\n",
              "      <td>0</td>\n",
              "      <td>30000</td>\n",
              "      <td>0</td>\n",
              "      <td>0</td>\n",
              "      <td>0</td>\n",
              "      <td>0</td>\n",
              "      <td>0</td>\n",
              "      <td>0</td>\n",
              "      <td>0</td>\n",
              "      <td>...</td>\n",
              "      <td>0</td>\n",
              "      <td>0</td>\n",
              "      <td>0</td>\n",
              "      <td>0</td>\n",
              "      <td>0</td>\n",
              "      <td>0</td>\n",
              "      <td>0</td>\n",
              "      <td>0</td>\n",
              "      <td>0</td>\n",
              "      <td>0</td>\n",
              "    </tr>\n",
              "    <tr>\n",
              "      <th>1</th>\n",
              "      <td>chr1</td>\n",
              "      <td>30000</td>\n",
              "      <td>60000</td>\n",
              "      <td>0</td>\n",
              "      <td>0</td>\n",
              "      <td>0</td>\n",
              "      <td>0</td>\n",
              "      <td>0</td>\n",
              "      <td>0</td>\n",
              "      <td>0</td>\n",
              "      <td>...</td>\n",
              "      <td>0</td>\n",
              "      <td>0</td>\n",
              "      <td>0</td>\n",
              "      <td>0</td>\n",
              "      <td>0</td>\n",
              "      <td>0</td>\n",
              "      <td>0</td>\n",
              "      <td>0</td>\n",
              "      <td>0</td>\n",
              "      <td>0</td>\n",
              "    </tr>\n",
              "    <tr>\n",
              "      <th>2</th>\n",
              "      <td>chr1</td>\n",
              "      <td>60000</td>\n",
              "      <td>90000</td>\n",
              "      <td>0</td>\n",
              "      <td>0</td>\n",
              "      <td>0</td>\n",
              "      <td>0</td>\n",
              "      <td>0</td>\n",
              "      <td>0</td>\n",
              "      <td>0</td>\n",
              "      <td>...</td>\n",
              "      <td>0</td>\n",
              "      <td>0</td>\n",
              "      <td>0</td>\n",
              "      <td>0</td>\n",
              "      <td>0</td>\n",
              "      <td>0</td>\n",
              "      <td>0</td>\n",
              "      <td>0</td>\n",
              "      <td>0</td>\n",
              "      <td>0</td>\n",
              "    </tr>\n",
              "    <tr>\n",
              "      <th>3</th>\n",
              "      <td>chr1</td>\n",
              "      <td>90000</td>\n",
              "      <td>120000</td>\n",
              "      <td>0</td>\n",
              "      <td>0</td>\n",
              "      <td>0</td>\n",
              "      <td>0</td>\n",
              "      <td>0</td>\n",
              "      <td>0</td>\n",
              "      <td>0</td>\n",
              "      <td>...</td>\n",
              "      <td>0</td>\n",
              "      <td>0</td>\n",
              "      <td>0</td>\n",
              "      <td>0</td>\n",
              "      <td>0</td>\n",
              "      <td>0</td>\n",
              "      <td>0</td>\n",
              "      <td>0</td>\n",
              "      <td>0</td>\n",
              "      <td>0</td>\n",
              "    </tr>\n",
              "    <tr>\n",
              "      <th>4</th>\n",
              "      <td>chr1</td>\n",
              "      <td>120000</td>\n",
              "      <td>150000</td>\n",
              "      <td>0</td>\n",
              "      <td>0</td>\n",
              "      <td>0</td>\n",
              "      <td>0</td>\n",
              "      <td>0</td>\n",
              "      <td>0</td>\n",
              "      <td>0</td>\n",
              "      <td>...</td>\n",
              "      <td>0</td>\n",
              "      <td>0</td>\n",
              "      <td>0</td>\n",
              "      <td>0</td>\n",
              "      <td>0</td>\n",
              "      <td>0</td>\n",
              "      <td>0</td>\n",
              "      <td>0</td>\n",
              "      <td>0</td>\n",
              "      <td>0</td>\n",
              "    </tr>\n",
              "    <tr>\n",
              "      <th>...</th>\n",
              "      <td>...</td>\n",
              "      <td>...</td>\n",
              "      <td>...</td>\n",
              "      <td>...</td>\n",
              "      <td>...</td>\n",
              "      <td>...</td>\n",
              "      <td>...</td>\n",
              "      <td>...</td>\n",
              "      <td>...</td>\n",
              "      <td>...</td>\n",
              "      <td>...</td>\n",
              "      <td>...</td>\n",
              "      <td>...</td>\n",
              "      <td>...</td>\n",
              "      <td>...</td>\n",
              "      <td>...</td>\n",
              "      <td>...</td>\n",
              "      <td>...</td>\n",
              "      <td>...</td>\n",
              "      <td>...</td>\n",
              "      <td>...</td>\n",
              "    </tr>\n",
              "    <tr>\n",
              "      <th>90872</th>\n",
              "      <td>chr4_random</td>\n",
              "      <td>150000</td>\n",
              "      <td>160594</td>\n",
              "      <td>0</td>\n",
              "      <td>0</td>\n",
              "      <td>0</td>\n",
              "      <td>0</td>\n",
              "      <td>0</td>\n",
              "      <td>0</td>\n",
              "      <td>0</td>\n",
              "      <td>...</td>\n",
              "      <td>0</td>\n",
              "      <td>0</td>\n",
              "      <td>0</td>\n",
              "      <td>0</td>\n",
              "      <td>0</td>\n",
              "      <td>0</td>\n",
              "      <td>0</td>\n",
              "      <td>0</td>\n",
              "      <td>0</td>\n",
              "      <td>0</td>\n",
              "    </tr>\n",
              "    <tr>\n",
              "      <th>90873</th>\n",
              "      <td>chr3_random</td>\n",
              "      <td>0</td>\n",
              "      <td>30000</td>\n",
              "      <td>0</td>\n",
              "      <td>0</td>\n",
              "      <td>0</td>\n",
              "      <td>0</td>\n",
              "      <td>0</td>\n",
              "      <td>0</td>\n",
              "      <td>0</td>\n",
              "      <td>...</td>\n",
              "      <td>0</td>\n",
              "      <td>0</td>\n",
              "      <td>0</td>\n",
              "      <td>0</td>\n",
              "      <td>0</td>\n",
              "      <td>0</td>\n",
              "      <td>0</td>\n",
              "      <td>0</td>\n",
              "      <td>0</td>\n",
              "      <td>0</td>\n",
              "    </tr>\n",
              "    <tr>\n",
              "      <th>90874</th>\n",
              "      <td>chr3_random</td>\n",
              "      <td>30000</td>\n",
              "      <td>41899</td>\n",
              "      <td>0</td>\n",
              "      <td>0</td>\n",
              "      <td>0</td>\n",
              "      <td>0</td>\n",
              "      <td>0</td>\n",
              "      <td>0</td>\n",
              "      <td>0</td>\n",
              "      <td>...</td>\n",
              "      <td>0</td>\n",
              "      <td>0</td>\n",
              "      <td>0</td>\n",
              "      <td>0</td>\n",
              "      <td>0</td>\n",
              "      <td>0</td>\n",
              "      <td>0</td>\n",
              "      <td>0</td>\n",
              "      <td>0</td>\n",
              "      <td>0</td>\n",
              "    </tr>\n",
              "    <tr>\n",
              "      <th>90875</th>\n",
              "      <td>chrM</td>\n",
              "      <td>0</td>\n",
              "      <td>16299</td>\n",
              "      <td>1</td>\n",
              "      <td>1</td>\n",
              "      <td>1</td>\n",
              "      <td>1</td>\n",
              "      <td>1</td>\n",
              "      <td>1</td>\n",
              "      <td>1</td>\n",
              "      <td>...</td>\n",
              "      <td>1</td>\n",
              "      <td>1</td>\n",
              "      <td>1</td>\n",
              "      <td>1</td>\n",
              "      <td>1</td>\n",
              "      <td>1</td>\n",
              "      <td>1</td>\n",
              "      <td>1</td>\n",
              "      <td>1</td>\n",
              "      <td>1</td>\n",
              "    </tr>\n",
              "    <tr>\n",
              "      <th>90876</th>\n",
              "      <td>chr16_random</td>\n",
              "      <td>0</td>\n",
              "      <td>3994</td>\n",
              "      <td>0</td>\n",
              "      <td>0</td>\n",
              "      <td>0</td>\n",
              "      <td>0</td>\n",
              "      <td>0</td>\n",
              "      <td>0</td>\n",
              "      <td>0</td>\n",
              "      <td>...</td>\n",
              "      <td>0</td>\n",
              "      <td>0</td>\n",
              "      <td>0</td>\n",
              "      <td>0</td>\n",
              "      <td>0</td>\n",
              "      <td>0</td>\n",
              "      <td>0</td>\n",
              "      <td>0</td>\n",
              "      <td>0</td>\n",
              "      <td>0</td>\n",
              "    </tr>\n",
              "  </tbody>\n",
              "</table>\n",
              "<p>90877 rows × 411 columns</p>\n",
              "</div>\n",
              "      <button class=\"colab-df-convert\" onclick=\"convertToInteractive('df-1af77073-b4d1-4073-8f98-2a8757841b84')\"\n",
              "              title=\"Convert this dataframe to an interactive table.\"\n",
              "              style=\"display:none;\">\n",
              "        \n",
              "  <svg xmlns=\"http://www.w3.org/2000/svg\" height=\"24px\"viewBox=\"0 0 24 24\"\n",
              "       width=\"24px\">\n",
              "    <path d=\"M0 0h24v24H0V0z\" fill=\"none\"/>\n",
              "    <path d=\"M18.56 5.44l.94 2.06.94-2.06 2.06-.94-2.06-.94-.94-2.06-.94 2.06-2.06.94zm-11 1L8.5 8.5l.94-2.06 2.06-.94-2.06-.94L8.5 2.5l-.94 2.06-2.06.94zm10 10l.94 2.06.94-2.06 2.06-.94-2.06-.94-.94-2.06-.94 2.06-2.06.94z\"/><path d=\"M17.41 7.96l-1.37-1.37c-.4-.4-.92-.59-1.43-.59-.52 0-1.04.2-1.43.59L10.3 9.45l-7.72 7.72c-.78.78-.78 2.05 0 2.83L4 21.41c.39.39.9.59 1.41.59.51 0 1.02-.2 1.41-.59l7.78-7.78 2.81-2.81c.8-.78.8-2.07 0-2.86zM5.41 20L4 18.59l7.72-7.72 1.47 1.35L5.41 20z\"/>\n",
              "  </svg>\n",
              "      </button>\n",
              "      \n",
              "  <style>\n",
              "    .colab-df-container {\n",
              "      display:flex;\n",
              "      flex-wrap:wrap;\n",
              "      gap: 12px;\n",
              "    }\n",
              "\n",
              "    .colab-df-convert {\n",
              "      background-color: #E8F0FE;\n",
              "      border: none;\n",
              "      border-radius: 50%;\n",
              "      cursor: pointer;\n",
              "      display: none;\n",
              "      fill: #1967D2;\n",
              "      height: 32px;\n",
              "      padding: 0 0 0 0;\n",
              "      width: 32px;\n",
              "    }\n",
              "\n",
              "    .colab-df-convert:hover {\n",
              "      background-color: #E2EBFA;\n",
              "      box-shadow: 0px 1px 2px rgba(60, 64, 67, 0.3), 0px 1px 3px 1px rgba(60, 64, 67, 0.15);\n",
              "      fill: #174EA6;\n",
              "    }\n",
              "\n",
              "    [theme=dark] .colab-df-convert {\n",
              "      background-color: #3B4455;\n",
              "      fill: #D2E3FC;\n",
              "    }\n",
              "\n",
              "    [theme=dark] .colab-df-convert:hover {\n",
              "      background-color: #434B5C;\n",
              "      box-shadow: 0px 1px 3px 1px rgba(0, 0, 0, 0.15);\n",
              "      filter: drop-shadow(0px 1px 2px rgba(0, 0, 0, 0.3));\n",
              "      fill: #FFFFFF;\n",
              "    }\n",
              "  </style>\n",
              "\n",
              "      <script>\n",
              "        const buttonEl =\n",
              "          document.querySelector('#df-1af77073-b4d1-4073-8f98-2a8757841b84 button.colab-df-convert');\n",
              "        buttonEl.style.display =\n",
              "          google.colab.kernel.accessAllowed ? 'block' : 'none';\n",
              "\n",
              "        async function convertToInteractive(key) {\n",
              "          const element = document.querySelector('#df-1af77073-b4d1-4073-8f98-2a8757841b84');\n",
              "          const dataTable =\n",
              "            await google.colab.kernel.invokeFunction('convertToInteractive',\n",
              "                                                     [key], {});\n",
              "          if (!dataTable) return;\n",
              "\n",
              "          const docLinkHtml = 'Like what you see? Visit the ' +\n",
              "            '<a target=\"_blank\" href=https://colab.research.google.com/notebooks/data_table.ipynb>data table notebook</a>'\n",
              "            + ' to learn more about interactive tables.';\n",
              "          element.innerHTML = '';\n",
              "          dataTable['output_type'] = 'display_data';\n",
              "          await google.colab.output.renderOutput(dataTable, element);\n",
              "          const docLink = document.createElement('div');\n",
              "          docLink.innerHTML = docLinkHtml;\n",
              "          element.appendChild(docLink);\n",
              "        }\n",
              "      </script>\n",
              "    </div>\n",
              "  </div>\n",
              "  "
            ]
          },
          "metadata": {},
          "execution_count": 107
        }
      ],
      "source": [
        "import pandas as pd\n",
        "df = pd.read_csv('/content/GSE64881_segmentation_at_30000bp.passqc.multibam.csv')\n",
        "hist_df = pd.read_csv('/content/Hist1_region_features.csv')\n",
        "df"
      ]
    },
    {
      "cell_type": "markdown",
      "source": [
        "Extracting Hist1 region\n",
        "\n",
        "Data frame 2 (df2) has hist1 region of mouse genome"
      ],
      "metadata": {
        "id": "8AMqOfVzE_RC"
      }
    },
    {
      "cell_type": "code",
      "source": [
        "df2 = df[(df['chrom']=='chr13') & (df['start']>= 21690000) & (df['stop']<= 24120000)]"
      ],
      "metadata": {
        "id": "FRxa3lizx9Ow"
      },
      "execution_count": null,
      "outputs": []
    },
    {
      "cell_type": "code",
      "source": [
        "lad_data = (hist_df[['LAD']])\n",
        "hist1_data = (hist_df[['Hist1']])\n",
        "\n",
        "hist1_data_list = hist_df['Hist1'].values.tolist()\n",
        "lad_data_list = hist_df['LAD'].values.tolist()\n"
      ],
      "metadata": {
        "id": "VenYNK2Mx_UY"
      },
      "execution_count": null,
      "outputs": []
    },
    {
      "cell_type": "code",
      "source": [
        "len(hist1_data_list)\n"
      ],
      "metadata": {
        "colab": {
          "base_uri": "https://localhost:8080/"
        },
        "id": "DknTMki-lqW1",
        "outputId": "06805f3a-22cf-4f1c-b1c4-bff6b70b0a67"
      },
      "execution_count": null,
      "outputs": [
        {
          "output_type": "execute_result",
          "data": {
            "text/plain": [
              "81"
            ]
          },
          "metadata": {},
          "execution_count": 110
        }
      ]
    },
    {
      "cell_type": "code",
      "source": [
        "hist_data_total = df2.loc[:, (df2 != 0).any(axis=0)]\n",
        "hist_data = hist_data_total.drop([\"chrom\",\"start\",\"stop\"], axis=1)\n",
        "hist_data"
      ],
      "metadata": {
        "colab": {
          "base_uri": "https://localhost:8080/",
          "height": 487
        },
        "id": "I1F3hwoFyDd_",
        "outputId": "a264ff12-6ac0-4d40-f771-175849c8034a"
      },
      "execution_count": null,
      "outputs": [
        {
          "output_type": "execute_result",
          "data": {
            "text/plain": [
              "       F10A3  F10A5  F10B3  F10B5  F10C1  F10C3  F10C4  F10D1  F10D5  F10E3  \\\n",
              "69714      1      0      0      0      0      1      0      1      0      0   \n",
              "69715      1      0      0      0      0      1      0      1      0      0   \n",
              "69716      1      0      0      1      0      1      0      0      0      0   \n",
              "69717      0      0      0      1      0      1      0      1      0      0   \n",
              "69718      1      0      0      1      0      0      0      1      0      0   \n",
              "...      ...    ...    ...    ...    ...    ...    ...    ...    ...    ...   \n",
              "69790      0      0      0      0      0      1      0      1      0      0   \n",
              "69791      0      0      0      1      0      1      0      1      0      0   \n",
              "69792      0      0      0      1      0      1      0      1      0      0   \n",
              "69793      1      0      0      1      0      1      0      1      0      0   \n",
              "69794      1      0      0      1      0      1      0      1      0      0   \n",
              "\n",
              "       ...  F9A4  F9A5  F9B4  F9B6  F9C5  F9D3  F9D6  F9F2  F9F3  F9G3  \n",
              "69714  ...     0     0     0     0     1     0     0     1     0     0  \n",
              "69715  ...     0     0     0     0     0     0     0     1     0     1  \n",
              "69716  ...     0     0     0     1     0     0     0     1     0     1  \n",
              "69717  ...     0     0     0     1     1     0     0     1     0     0  \n",
              "69718  ...     0     0     0     0     1     0     0     1     0     0  \n",
              "...    ...   ...   ...   ...   ...   ...   ...   ...   ...   ...   ...  \n",
              "69790  ...     0     0     0     0     0     1     1     0     0     0  \n",
              "69791  ...     0     0     0     0     0     1     1     1     0     0  \n",
              "69792  ...     0     0     0     0     1     1     1     1     0     0  \n",
              "69793  ...     0     1     0     0     1     1     1     1     0     0  \n",
              "69794  ...     0     0     0     0     0     1     0     1     0     0  \n",
              "\n",
              "[81 rows x 163 columns]"
            ],
            "text/html": [
              "\n",
              "  <div id=\"df-5d7c67ab-35f8-41f7-953c-dec0a2cdd360\">\n",
              "    <div class=\"colab-df-container\">\n",
              "      <div>\n",
              "<style scoped>\n",
              "    .dataframe tbody tr th:only-of-type {\n",
              "        vertical-align: middle;\n",
              "    }\n",
              "\n",
              "    .dataframe tbody tr th {\n",
              "        vertical-align: top;\n",
              "    }\n",
              "\n",
              "    .dataframe thead th {\n",
              "        text-align: right;\n",
              "    }\n",
              "</style>\n",
              "<table border=\"1\" class=\"dataframe\">\n",
              "  <thead>\n",
              "    <tr style=\"text-align: right;\">\n",
              "      <th></th>\n",
              "      <th>F10A3</th>\n",
              "      <th>F10A5</th>\n",
              "      <th>F10B3</th>\n",
              "      <th>F10B5</th>\n",
              "      <th>F10C1</th>\n",
              "      <th>F10C3</th>\n",
              "      <th>F10C4</th>\n",
              "      <th>F10D1</th>\n",
              "      <th>F10D5</th>\n",
              "      <th>F10E3</th>\n",
              "      <th>...</th>\n",
              "      <th>F9A4</th>\n",
              "      <th>F9A5</th>\n",
              "      <th>F9B4</th>\n",
              "      <th>F9B6</th>\n",
              "      <th>F9C5</th>\n",
              "      <th>F9D3</th>\n",
              "      <th>F9D6</th>\n",
              "      <th>F9F2</th>\n",
              "      <th>F9F3</th>\n",
              "      <th>F9G3</th>\n",
              "    </tr>\n",
              "  </thead>\n",
              "  <tbody>\n",
              "    <tr>\n",
              "      <th>69714</th>\n",
              "      <td>1</td>\n",
              "      <td>0</td>\n",
              "      <td>0</td>\n",
              "      <td>0</td>\n",
              "      <td>0</td>\n",
              "      <td>1</td>\n",
              "      <td>0</td>\n",
              "      <td>1</td>\n",
              "      <td>0</td>\n",
              "      <td>0</td>\n",
              "      <td>...</td>\n",
              "      <td>0</td>\n",
              "      <td>0</td>\n",
              "      <td>0</td>\n",
              "      <td>0</td>\n",
              "      <td>1</td>\n",
              "      <td>0</td>\n",
              "      <td>0</td>\n",
              "      <td>1</td>\n",
              "      <td>0</td>\n",
              "      <td>0</td>\n",
              "    </tr>\n",
              "    <tr>\n",
              "      <th>69715</th>\n",
              "      <td>1</td>\n",
              "      <td>0</td>\n",
              "      <td>0</td>\n",
              "      <td>0</td>\n",
              "      <td>0</td>\n",
              "      <td>1</td>\n",
              "      <td>0</td>\n",
              "      <td>1</td>\n",
              "      <td>0</td>\n",
              "      <td>0</td>\n",
              "      <td>...</td>\n",
              "      <td>0</td>\n",
              "      <td>0</td>\n",
              "      <td>0</td>\n",
              "      <td>0</td>\n",
              "      <td>0</td>\n",
              "      <td>0</td>\n",
              "      <td>0</td>\n",
              "      <td>1</td>\n",
              "      <td>0</td>\n",
              "      <td>1</td>\n",
              "    </tr>\n",
              "    <tr>\n",
              "      <th>69716</th>\n",
              "      <td>1</td>\n",
              "      <td>0</td>\n",
              "      <td>0</td>\n",
              "      <td>1</td>\n",
              "      <td>0</td>\n",
              "      <td>1</td>\n",
              "      <td>0</td>\n",
              "      <td>0</td>\n",
              "      <td>0</td>\n",
              "      <td>0</td>\n",
              "      <td>...</td>\n",
              "      <td>0</td>\n",
              "      <td>0</td>\n",
              "      <td>0</td>\n",
              "      <td>1</td>\n",
              "      <td>0</td>\n",
              "      <td>0</td>\n",
              "      <td>0</td>\n",
              "      <td>1</td>\n",
              "      <td>0</td>\n",
              "      <td>1</td>\n",
              "    </tr>\n",
              "    <tr>\n",
              "      <th>69717</th>\n",
              "      <td>0</td>\n",
              "      <td>0</td>\n",
              "      <td>0</td>\n",
              "      <td>1</td>\n",
              "      <td>0</td>\n",
              "      <td>1</td>\n",
              "      <td>0</td>\n",
              "      <td>1</td>\n",
              "      <td>0</td>\n",
              "      <td>0</td>\n",
              "      <td>...</td>\n",
              "      <td>0</td>\n",
              "      <td>0</td>\n",
              "      <td>0</td>\n",
              "      <td>1</td>\n",
              "      <td>1</td>\n",
              "      <td>0</td>\n",
              "      <td>0</td>\n",
              "      <td>1</td>\n",
              "      <td>0</td>\n",
              "      <td>0</td>\n",
              "    </tr>\n",
              "    <tr>\n",
              "      <th>69718</th>\n",
              "      <td>1</td>\n",
              "      <td>0</td>\n",
              "      <td>0</td>\n",
              "      <td>1</td>\n",
              "      <td>0</td>\n",
              "      <td>0</td>\n",
              "      <td>0</td>\n",
              "      <td>1</td>\n",
              "      <td>0</td>\n",
              "      <td>0</td>\n",
              "      <td>...</td>\n",
              "      <td>0</td>\n",
              "      <td>0</td>\n",
              "      <td>0</td>\n",
              "      <td>0</td>\n",
              "      <td>1</td>\n",
              "      <td>0</td>\n",
              "      <td>0</td>\n",
              "      <td>1</td>\n",
              "      <td>0</td>\n",
              "      <td>0</td>\n",
              "    </tr>\n",
              "    <tr>\n",
              "      <th>...</th>\n",
              "      <td>...</td>\n",
              "      <td>...</td>\n",
              "      <td>...</td>\n",
              "      <td>...</td>\n",
              "      <td>...</td>\n",
              "      <td>...</td>\n",
              "      <td>...</td>\n",
              "      <td>...</td>\n",
              "      <td>...</td>\n",
              "      <td>...</td>\n",
              "      <td>...</td>\n",
              "      <td>...</td>\n",
              "      <td>...</td>\n",
              "      <td>...</td>\n",
              "      <td>...</td>\n",
              "      <td>...</td>\n",
              "      <td>...</td>\n",
              "      <td>...</td>\n",
              "      <td>...</td>\n",
              "      <td>...</td>\n",
              "      <td>...</td>\n",
              "    </tr>\n",
              "    <tr>\n",
              "      <th>69790</th>\n",
              "      <td>0</td>\n",
              "      <td>0</td>\n",
              "      <td>0</td>\n",
              "      <td>0</td>\n",
              "      <td>0</td>\n",
              "      <td>1</td>\n",
              "      <td>0</td>\n",
              "      <td>1</td>\n",
              "      <td>0</td>\n",
              "      <td>0</td>\n",
              "      <td>...</td>\n",
              "      <td>0</td>\n",
              "      <td>0</td>\n",
              "      <td>0</td>\n",
              "      <td>0</td>\n",
              "      <td>0</td>\n",
              "      <td>1</td>\n",
              "      <td>1</td>\n",
              "      <td>0</td>\n",
              "      <td>0</td>\n",
              "      <td>0</td>\n",
              "    </tr>\n",
              "    <tr>\n",
              "      <th>69791</th>\n",
              "      <td>0</td>\n",
              "      <td>0</td>\n",
              "      <td>0</td>\n",
              "      <td>1</td>\n",
              "      <td>0</td>\n",
              "      <td>1</td>\n",
              "      <td>0</td>\n",
              "      <td>1</td>\n",
              "      <td>0</td>\n",
              "      <td>0</td>\n",
              "      <td>...</td>\n",
              "      <td>0</td>\n",
              "      <td>0</td>\n",
              "      <td>0</td>\n",
              "      <td>0</td>\n",
              "      <td>0</td>\n",
              "      <td>1</td>\n",
              "      <td>1</td>\n",
              "      <td>1</td>\n",
              "      <td>0</td>\n",
              "      <td>0</td>\n",
              "    </tr>\n",
              "    <tr>\n",
              "      <th>69792</th>\n",
              "      <td>0</td>\n",
              "      <td>0</td>\n",
              "      <td>0</td>\n",
              "      <td>1</td>\n",
              "      <td>0</td>\n",
              "      <td>1</td>\n",
              "      <td>0</td>\n",
              "      <td>1</td>\n",
              "      <td>0</td>\n",
              "      <td>0</td>\n",
              "      <td>...</td>\n",
              "      <td>0</td>\n",
              "      <td>0</td>\n",
              "      <td>0</td>\n",
              "      <td>0</td>\n",
              "      <td>1</td>\n",
              "      <td>1</td>\n",
              "      <td>1</td>\n",
              "      <td>1</td>\n",
              "      <td>0</td>\n",
              "      <td>0</td>\n",
              "    </tr>\n",
              "    <tr>\n",
              "      <th>69793</th>\n",
              "      <td>1</td>\n",
              "      <td>0</td>\n",
              "      <td>0</td>\n",
              "      <td>1</td>\n",
              "      <td>0</td>\n",
              "      <td>1</td>\n",
              "      <td>0</td>\n",
              "      <td>1</td>\n",
              "      <td>0</td>\n",
              "      <td>0</td>\n",
              "      <td>...</td>\n",
              "      <td>0</td>\n",
              "      <td>1</td>\n",
              "      <td>0</td>\n",
              "      <td>0</td>\n",
              "      <td>1</td>\n",
              "      <td>1</td>\n",
              "      <td>1</td>\n",
              "      <td>1</td>\n",
              "      <td>0</td>\n",
              "      <td>0</td>\n",
              "    </tr>\n",
              "    <tr>\n",
              "      <th>69794</th>\n",
              "      <td>1</td>\n",
              "      <td>0</td>\n",
              "      <td>0</td>\n",
              "      <td>1</td>\n",
              "      <td>0</td>\n",
              "      <td>1</td>\n",
              "      <td>0</td>\n",
              "      <td>1</td>\n",
              "      <td>0</td>\n",
              "      <td>0</td>\n",
              "      <td>...</td>\n",
              "      <td>0</td>\n",
              "      <td>0</td>\n",
              "      <td>0</td>\n",
              "      <td>0</td>\n",
              "      <td>0</td>\n",
              "      <td>1</td>\n",
              "      <td>0</td>\n",
              "      <td>1</td>\n",
              "      <td>0</td>\n",
              "      <td>0</td>\n",
              "    </tr>\n",
              "  </tbody>\n",
              "</table>\n",
              "<p>81 rows × 163 columns</p>\n",
              "</div>\n",
              "      <button class=\"colab-df-convert\" onclick=\"convertToInteractive('df-5d7c67ab-35f8-41f7-953c-dec0a2cdd360')\"\n",
              "              title=\"Convert this dataframe to an interactive table.\"\n",
              "              style=\"display:none;\">\n",
              "        \n",
              "  <svg xmlns=\"http://www.w3.org/2000/svg\" height=\"24px\"viewBox=\"0 0 24 24\"\n",
              "       width=\"24px\">\n",
              "    <path d=\"M0 0h24v24H0V0z\" fill=\"none\"/>\n",
              "    <path d=\"M18.56 5.44l.94 2.06.94-2.06 2.06-.94-2.06-.94-.94-2.06-.94 2.06-2.06.94zm-11 1L8.5 8.5l.94-2.06 2.06-.94-2.06-.94L8.5 2.5l-.94 2.06-2.06.94zm10 10l.94 2.06.94-2.06 2.06-.94-2.06-.94-.94-2.06-.94 2.06-2.06.94z\"/><path d=\"M17.41 7.96l-1.37-1.37c-.4-.4-.92-.59-1.43-.59-.52 0-1.04.2-1.43.59L10.3 9.45l-7.72 7.72c-.78.78-.78 2.05 0 2.83L4 21.41c.39.39.9.59 1.41.59.51 0 1.02-.2 1.41-.59l7.78-7.78 2.81-2.81c.8-.78.8-2.07 0-2.86zM5.41 20L4 18.59l7.72-7.72 1.47 1.35L5.41 20z\"/>\n",
              "  </svg>\n",
              "      </button>\n",
              "      \n",
              "  <style>\n",
              "    .colab-df-container {\n",
              "      display:flex;\n",
              "      flex-wrap:wrap;\n",
              "      gap: 12px;\n",
              "    }\n",
              "\n",
              "    .colab-df-convert {\n",
              "      background-color: #E8F0FE;\n",
              "      border: none;\n",
              "      border-radius: 50%;\n",
              "      cursor: pointer;\n",
              "      display: none;\n",
              "      fill: #1967D2;\n",
              "      height: 32px;\n",
              "      padding: 0 0 0 0;\n",
              "      width: 32px;\n",
              "    }\n",
              "\n",
              "    .colab-df-convert:hover {\n",
              "      background-color: #E2EBFA;\n",
              "      box-shadow: 0px 1px 2px rgba(60, 64, 67, 0.3), 0px 1px 3px 1px rgba(60, 64, 67, 0.15);\n",
              "      fill: #174EA6;\n",
              "    }\n",
              "\n",
              "    [theme=dark] .colab-df-convert {\n",
              "      background-color: #3B4455;\n",
              "      fill: #D2E3FC;\n",
              "    }\n",
              "\n",
              "    [theme=dark] .colab-df-convert:hover {\n",
              "      background-color: #434B5C;\n",
              "      box-shadow: 0px 1px 3px 1px rgba(0, 0, 0, 0.15);\n",
              "      filter: drop-shadow(0px 1px 2px rgba(0, 0, 0, 0.3));\n",
              "      fill: #FFFFFF;\n",
              "    }\n",
              "  </style>\n",
              "\n",
              "      <script>\n",
              "        const buttonEl =\n",
              "          document.querySelector('#df-5d7c67ab-35f8-41f7-953c-dec0a2cdd360 button.colab-df-convert');\n",
              "        buttonEl.style.display =\n",
              "          google.colab.kernel.accessAllowed ? 'block' : 'none';\n",
              "\n",
              "        async function convertToInteractive(key) {\n",
              "          const element = document.querySelector('#df-5d7c67ab-35f8-41f7-953c-dec0a2cdd360');\n",
              "          const dataTable =\n",
              "            await google.colab.kernel.invokeFunction('convertToInteractive',\n",
              "                                                     [key], {});\n",
              "          if (!dataTable) return;\n",
              "\n",
              "          const docLinkHtml = 'Like what you see? Visit the ' +\n",
              "            '<a target=\"_blank\" href=https://colab.research.google.com/notebooks/data_table.ipynb>data table notebook</a>'\n",
              "            + ' to learn more about interactive tables.';\n",
              "          element.innerHTML = '';\n",
              "          dataTable['output_type'] = 'display_data';\n",
              "          await google.colab.output.renderOutput(dataTable, element);\n",
              "          const docLink = document.createElement('div');\n",
              "          docLink.innerHTML = docLinkHtml;\n",
              "          element.appendChild(docLink);\n",
              "        }\n",
              "      </script>\n",
              "    </div>\n",
              "  </div>\n",
              "  "
            ]
          },
          "metadata": {},
          "execution_count": 111
        }
      ]
    },
    {
      "cell_type": "code",
      "source": [
        "count_of_np = hist_data.sum(axis=1)\n",
        "window_sum_list = list(count_of_np)\n",
        "windows = len(hist_data.sum(axis=1))\n",
        "nps = len(hist_data.sum(axis=0))"
      ],
      "metadata": {
        "id": "xQVUnPjiy6cw"
      },
      "execution_count": null,
      "outputs": []
    },
    {
      "cell_type": "markdown",
      "source": [
        "Finding 5 nodes with largest degree centrality. Each of the 5 nodes is a 'hub' of one community in the network, which consists of hub and its neighbors (nodes directly connected to the hub)"
      ],
      "metadata": {
        "id": "v3r88BLEVH-n"
      }
    },
    {
      "cell_type": "code",
      "source": [
        "import numpy as np\n",
        "\n",
        "rows = windows\n",
        "cols = windows\n",
        "sum_avg = 0\n",
        "sum_count = 0\n",
        "m_matrix = np.zeros((rows, cols))\n",
        "\n",
        "for x in range(rows):\n",
        "\n",
        "  for y in range(x+1, rows):\n",
        "\n",
        "    m11_count=0\n",
        "\n",
        "    for z in range(nps):\n",
        "\n",
        "      if ((hist_data.iat[x,z] == 1) and (hist_data.iat[y,z] == 1)):\n",
        "        m11_count += 1;\n",
        "    cosegregation = m11_count/nps\n",
        "    fa = window_sum_list[x]/nps\n",
        "    fb = window_sum_list[y]/nps\n",
        "    linkage = cosegregation - (fa*fb)\n",
        "\n",
        "    if linkage < 0:\n",
        "      d_max = min((fa*fb), ((1-fa)*(1-fb)))\n",
        "      nld = linkage/d_max\n",
        "    elif  linkage > 0:\n",
        "       d_max = min((fb*(1-fa)), (fa*(1-fb)))\n",
        "       nld = linkage/d_max\n",
        "    else:\n",
        "      nld = linkage\n",
        "\n",
        "    m_matrix[x][y] = (nld)\n",
        "    sum_avg = sum_avg + nld\n",
        "    sum_count = sum_count + 1\n",
        "average = sum_avg/sum_count"
      ],
      "metadata": {
        "id": "HnDoBGAP1SiV"
      },
      "execution_count": null,
      "outputs": []
    },
    {
      "cell_type": "code",
      "source": [
        "for i in range(rows):\n",
        "    for j in range(i, cols):\n",
        "        m_matrix[j][i] = m_matrix[i][j]\n",
        "print(np.matrix(m_matrix))"
      ],
      "metadata": {
        "colab": {
          "base_uri": "https://localhost:8080/"
        },
        "id": "SU6f4KXX1yq4",
        "outputId": "8339d3e1-9485-4cbb-8583-facecbf81983"
      },
      "execution_count": null,
      "outputs": [
        {
          "output_type": "stream",
          "name": "stdout",
          "text": [
            "[[0.         0.7302069  0.65482353 ... 0.24283871 0.2665     0.44114286]\n",
            " [0.7302069  0.         0.6514301  ... 0.23354232 0.2276915  0.34834755]\n",
            " [0.65482353 0.6514301  0.         ... 0.1847962  0.17078488 0.3230897 ]\n",
            " ...\n",
            " [0.24283871 0.23354232 0.1847962  ... 0.         0.71903472 0.64718615]\n",
            " [0.2665     0.2276915  0.17078488 ... 0.71903472 0.         0.6889313 ]\n",
            " [0.44114286 0.34834755 0.3230897  ... 0.64718615 0.6889313  0.        ]]\n"
          ]
        }
      ]
    },
    {
      "cell_type": "code",
      "source": [
        "degree_centrality_list = []\n",
        "edge_list = []\n",
        "edge_matrix = np.zeros((rows, cols))\n",
        "for a in range(rows):\n",
        "  edge_count = 0\n",
        "  for b in range(cols):\n",
        "    if(m_matrix[a][b]>average):\n",
        "      edge_matrix [a][b] = 1\n",
        "      edge_count = edge_count + 1\n",
        "  edge_list.append(edge_count)\n",
        "  degree_centrality = edge_count/(cols-1)\n",
        "  degree_centrality_list.append(degree_centrality)"
      ],
      "metadata": {
        "id": "mQdd2CGTqF_6"
      },
      "execution_count": null,
      "outputs": []
    },
    {
      "cell_type": "code",
      "source": [
        "edge_matrix"
      ],
      "metadata": {
        "colab": {
          "base_uri": "https://localhost:8080/"
        },
        "id": "OsJ5FSPibNt2",
        "outputId": "23fc76ce-815f-4e18-8cb0-92a28fd284c5"
      },
      "execution_count": null,
      "outputs": [
        {
          "output_type": "execute_result",
          "data": {
            "text/plain": [
              "array([[0., 1., 1., ..., 0., 0., 1.],\n",
              "       [1., 0., 1., ..., 0., 0., 1.],\n",
              "       [1., 1., 0., ..., 0., 0., 0.],\n",
              "       ...,\n",
              "       [0., 0., 0., ..., 0., 1., 1.],\n",
              "       [0., 0., 0., ..., 1., 0., 1.],\n",
              "       [1., 1., 0., ..., 1., 1., 0.]])"
            ]
          },
          "metadata": {},
          "execution_count": 116
        }
      ]
    },
    {
      "cell_type": "code",
      "source": [
        "min(degree_centrality_list)"
      ],
      "metadata": {
        "colab": {
          "base_uri": "https://localhost:8080/"
        },
        "id": "tkQowoobtesS",
        "outputId": "8c1ce471-b188-4ed2-c376-585ef951f6f2"
      },
      "execution_count": null,
      "outputs": [
        {
          "output_type": "execute_result",
          "data": {
            "text/plain": [
              "0.0"
            ]
          },
          "metadata": {},
          "execution_count": 117
        }
      ]
    },
    {
      "cell_type": "code",
      "source": [
        "max(degree_centrality_list)"
      ],
      "metadata": {
        "colab": {
          "base_uri": "https://localhost:8080/"
        },
        "id": "wsCx96wmtsYe",
        "outputId": "3129d8f9-32d8-428c-e98a-5cbbece5cf74"
      },
      "execution_count": null,
      "outputs": [
        {
          "output_type": "execute_result",
          "data": {
            "text/plain": [
              "0.7375"
            ]
          },
          "metadata": {},
          "execution_count": 118
        }
      ]
    },
    {
      "cell_type": "code",
      "source": [
        "from statistics import mean\n",
        "mean(degree_centrality_list)"
      ],
      "metadata": {
        "colab": {
          "base_uri": "https://localhost:8080/"
        },
        "id": "RHYjlc_btwah",
        "outputId": "d5f30e33-54fe-402b-bcbb-6dde7cdd3851"
      },
      "execution_count": null,
      "outputs": [
        {
          "output_type": "execute_result",
          "data": {
            "text/plain": [
              "0.4904320987654321"
            ]
          },
          "metadata": {},
          "execution_count": 119
        }
      ]
    },
    {
      "cell_type": "code",
      "source": [
        "ranked_window_list = np.argsort(degree_centrality_list)\n",
        "ranked_values = np.sort(degree_centrality_list)"
      ],
      "metadata": {
        "id": "QHeMD_8nu1Fo"
      },
      "execution_count": null,
      "outputs": []
    },
    {
      "cell_type": "code",
      "source": [
        "ranked_window_list"
      ],
      "metadata": {
        "colab": {
          "base_uri": "https://localhost:8080/"
        },
        "id": "Y4OcpORXv-sN",
        "outputId": "9046e69d-1078-45ae-d7a3-6b3da3bff701"
      },
      "execution_count": null,
      "outputs": [
        {
          "output_type": "execute_result",
          "data": {
            "text/plain": [
              "array([44,  6,  3, 76, 79,  1,  2, 75,  4, 78,  0,  5, 74, 70, 77, 71, 80,\n",
              "        8, 73, 72, 65,  9, 61, 26, 66, 64, 43, 62, 10, 27, 28, 20, 69,  7,\n",
              "       25, 14, 11, 45, 18, 52, 49, 59, 67, 24, 23, 22, 31, 30, 46, 68, 58,\n",
              "       21, 33, 55, 42, 29, 54, 53, 50, 16, 36, 51, 47, 34, 13, 63, 40, 12,\n",
              "       17, 57, 60, 41, 15, 38, 19, 48, 39, 35, 32, 56, 37])"
            ]
          },
          "metadata": {},
          "execution_count": 121
        }
      ]
    },
    {
      "cell_type": "code",
      "source": [
        "ranked_values"
      ],
      "metadata": {
        "colab": {
          "base_uri": "https://localhost:8080/"
        },
        "id": "2fSg6r6VwNSn",
        "outputId": "6c8920bb-91e3-4265-ce3d-51542124b9a8"
      },
      "execution_count": null,
      "outputs": [
        {
          "output_type": "execute_result",
          "data": {
            "text/plain": [
              "array([0.    , 0.0875, 0.1125, 0.1625, 0.1625, 0.1875, 0.1875, 0.1875,\n",
              "       0.2   , 0.2   , 0.2125, 0.2125, 0.2125, 0.2125, 0.225 , 0.2375,\n",
              "       0.2375, 0.25  , 0.2625, 0.275 , 0.3   , 0.3375, 0.35  , 0.3625,\n",
              "       0.4   , 0.4125, 0.4375, 0.45  , 0.4875, 0.5   , 0.5   , 0.5125,\n",
              "       0.525 , 0.525 , 0.5375, 0.55  , 0.55  , 0.5625, 0.5625, 0.575 ,\n",
              "       0.575 , 0.5875, 0.5875, 0.5875, 0.5875, 0.5875, 0.6   , 0.6   ,\n",
              "       0.6   , 0.6   , 0.6   , 0.6   , 0.6   , 0.625 , 0.625 , 0.625 ,\n",
              "       0.625 , 0.6375, 0.6375, 0.6375, 0.6375, 0.65  , 0.65  , 0.65  ,\n",
              "       0.6625, 0.6625, 0.6625, 0.675 , 0.675 , 0.675 , 0.675 , 0.6875,\n",
              "       0.6875, 0.6875, 0.6875, 0.7   , 0.7125, 0.7125, 0.7125, 0.7375,\n",
              "       0.7375])"
            ]
          },
          "metadata": {},
          "execution_count": 122
        }
      ]
    },
    {
      "cell_type": "code",
      "source": [
        "hub_list = ranked_window_list[76: ]\n",
        "hub_list"
      ],
      "metadata": {
        "colab": {
          "base_uri": "https://localhost:8080/"
        },
        "id": "pNFD5SKNPZrU",
        "outputId": "3293fb57-3b11-4de7-ff41-d29dcffc0152"
      },
      "execution_count": null,
      "outputs": [
        {
          "output_type": "execute_result",
          "data": {
            "text/plain": [
              "array([39, 35, 32, 56, 37])"
            ]
          },
          "metadata": {},
          "execution_count": 123
        }
      ]
    },
    {
      "cell_type": "code",
      "source": [
        "community_list = []\n",
        "for i in range (len(hub_list)):\n",
        "  community_sub_list = []\n",
        "  for j in range (cols):\n",
        "    if edge_matrix[hub_list[i]][j]==1:\n",
        "      community_sub_list.append(j)\n",
        "  community_sub_list.append(hub_list[i])\n",
        "  community_list.append(community_sub_list)"
      ],
      "metadata": {
        "id": "RLM1H-Axgekq"
      },
      "execution_count": null,
      "outputs": []
    },
    {
      "cell_type": "markdown",
      "source": [
        "List of each community nodes and their size"
      ],
      "metadata": {
        "id": "KkvIUdya3Sbk"
      }
    },
    {
      "cell_type": "code",
      "source": [
        "print(len(community_list[0]))\n",
        "print(len(community_list[1]))\n",
        "print(len(community_list[2]))\n",
        "print(len(community_list[3]))\n",
        "print(len(community_list[4]))\n",
        "print(len(community_list))\n",
        "print (community_list)"
      ],
      "metadata": {
        "id": "kxPa7m1mih-H",
        "colab": {
          "base_uri": "https://localhost:8080/"
        },
        "outputId": "f24d46e7-107d-454c-d958-7ccd63ecba5a"
      },
      "execution_count": null,
      "outputs": [
        {
          "output_type": "stream",
          "name": "stdout",
          "text": [
            "58\n",
            "58\n",
            "58\n",
            "60\n",
            "60\n",
            "5\n",
            "[[0, 2, 10, 11, 12, 13, 14, 15, 16, 18, 19, 20, 21, 22, 23, 24, 25, 26, 27, 28, 29, 30, 31, 32, 33, 34, 35, 36, 37, 38, 40, 41, 42, 43, 46, 47, 48, 49, 50, 51, 52, 53, 54, 55, 56, 57, 58, 59, 60, 61, 62, 63, 64, 65, 67, 69, 72, 39], [7, 11, 12, 13, 14, 15, 16, 17, 18, 19, 20, 21, 22, 23, 24, 25, 26, 27, 28, 29, 30, 31, 32, 33, 34, 36, 37, 38, 39, 40, 41, 42, 43, 45, 46, 47, 48, 49, 50, 51, 52, 53, 54, 55, 56, 57, 58, 59, 60, 61, 62, 63, 64, 66, 67, 68, 69, 35], [7, 8, 9, 10, 11, 12, 13, 14, 15, 16, 17, 18, 19, 20, 21, 22, 23, 24, 25, 26, 27, 28, 29, 30, 31, 33, 34, 35, 36, 37, 38, 39, 40, 41, 42, 43, 45, 46, 47, 48, 49, 50, 51, 52, 53, 54, 55, 56, 57, 58, 59, 60, 61, 62, 63, 67, 68, 32], [7, 11, 12, 13, 14, 15, 16, 17, 18, 19, 20, 21, 22, 23, 24, 25, 26, 27, 28, 29, 30, 31, 32, 33, 34, 35, 36, 37, 38, 39, 40, 41, 42, 43, 45, 46, 47, 48, 49, 50, 51, 52, 53, 54, 55, 57, 58, 59, 60, 61, 62, 63, 64, 65, 66, 67, 68, 69, 71, 56], [8, 9, 10, 11, 12, 13, 14, 15, 16, 17, 18, 19, 20, 21, 22, 23, 24, 25, 26, 27, 28, 29, 30, 31, 32, 33, 34, 35, 36, 38, 39, 40, 41, 42, 43, 45, 46, 47, 48, 49, 50, 51, 52, 53, 54, 55, 56, 57, 58, 59, 60, 61, 62, 63, 64, 66, 67, 68, 69, 37]]\n"
          ]
        }
      ]
    },
    {
      "cell_type": "code",
      "source": [
        "window_names = hist_data_total[[\"chrom\", \"start\", \"stop\"]]\n",
        "window_names = list(window_names[\"chrom\"] + \"-\" + window_names[\"start\"].astype(str) + \"-\" + window_names[\"stop\"].astype(str))\n",
        "len(window_names)"
      ],
      "metadata": {
        "colab": {
          "base_uri": "https://localhost:8080/"
        },
        "id": "76Fef5cH_1kE",
        "outputId": "9af7f47a-e9a7-4985-9307-1f8e397c42e9"
      },
      "execution_count": null,
      "outputs": [
        {
          "output_type": "execute_result",
          "data": {
            "text/plain": [
              "81"
            ]
          },
          "metadata": {},
          "execution_count": 126
        }
      ]
    },
    {
      "cell_type": "markdown",
      "source": [
        "Calculating percentage of nodes in community that contain both Hist1 and LAD genes"
      ],
      "metadata": {
        "id": "h2-aQIjXV4ob"
      }
    },
    {
      "cell_type": "code",
      "source": [
        "hist_percentages = []\n",
        "lad_percentages = []\n",
        "for i in range(len(community_list)):\n",
        "  hist_count = 0\n",
        "  lad_count = 0\n",
        "  for j in community_list[i]:\n",
        "    if hist1_data_list[j] == 1:\n",
        "      hist_count = hist_count + 1\n",
        "    if lad_data_list[j] == 1:\n",
        "      lad_count = lad_count + 1\n",
        "  hist_percentage = ((hist_count)/len(community_list[i]))*100\n",
        "  hist_percentages.append(hist_percentage)\n",
        "  lad_percentage = ((lad_count)/len(community_list[i]))*100\n",
        "  lad_percentages.append(lad_percentage)"
      ],
      "metadata": {
        "id": "mFrSW8WRjU7H"
      },
      "execution_count": null,
      "outputs": []
    },
    {
      "cell_type": "markdown",
      "source": [
        "Percentage of LAD gene in each community\n"
      ],
      "metadata": {
        "id": "2UP4yHJ224qO"
      }
    },
    {
      "cell_type": "code",
      "source": [
        "lad_percentages"
      ],
      "metadata": {
        "colab": {
          "base_uri": "https://localhost:8080/"
        },
        "id": "gR8FREA_zdYr",
        "outputId": "21491520-abc3-47cf-f9be-f2fe52a95ce7"
      },
      "execution_count": null,
      "outputs": [
        {
          "output_type": "execute_result",
          "data": {
            "text/plain": [
              "[60.3448275862069,\n",
              " 60.3448275862069,\n",
              " 60.3448275862069,\n",
              " 58.333333333333336,\n",
              " 58.333333333333336]"
            ]
          },
          "metadata": {},
          "execution_count": 128
        }
      ]
    },
    {
      "cell_type": "markdown",
      "source": [
        "Percentage of Hist gene in each community\n"
      ],
      "metadata": {
        "id": "hbB2GiSG2-9V"
      }
    },
    {
      "cell_type": "code",
      "source": [
        "hist_percentages"
      ],
      "metadata": {
        "colab": {
          "base_uri": "https://localhost:8080/"
        },
        "id": "wWe6iwZazv-x",
        "outputId": "1b8f6cbe-3952-45a0-aa51-1a34c5776bdd"
      },
      "execution_count": null,
      "outputs": [
        {
          "output_type": "execute_result",
          "data": {
            "text/plain": [
              "[10.344827586206897,\n",
              " 10.344827586206897,\n",
              " 5.172413793103448,\n",
              " 13.333333333333334,\n",
              " 8.333333333333332]"
            ]
          },
          "metadata": {},
          "execution_count": 129
        }
      ]
    },
    {
      "cell_type": "markdown",
      "source": [
        "Visualizing community as heatmap\n",
        "\n",
        "Each cell in the heatmap represents one edge in the graph"
      ],
      "metadata": {
        "id": "-NavNuyxWLaY"
      }
    },
    {
      "cell_type": "code",
      "source": [
        "import matplotlib.pyplot as mp\n",
        "import pandas as pd\n",
        "import seaborn as sb\n",
        "\n",
        "for i in range(len(hub_list)):\n",
        "  community_matrix = np.zeros((rows, cols))\n",
        "  community_matrix[community_list[i]] = edge_matrix[community_list[i]]\n",
        "  dataplot = sb.heatmap(community_matrix)\n",
        "  mp.show()"
      ],
      "metadata": {
        "colab": {
          "base_uri": "https://localhost:8080/",
          "height": 1000
        },
        "id": "cnkujS6AzAm_",
        "outputId": "5936daa3-3bfc-4c21-ae67-4ca4f94465a2"
      },
      "execution_count": null,
      "outputs": [
        {
          "output_type": "display_data",
          "data": {
            "text/plain": [
              "<Figure size 640x480 with 2 Axes>"
            ],
            "image/png": "[encoded data removed]"
          },
          "metadata": {}
        },
        {
          "output_type": "display_data",
          "data": {
            "text/plain": [
              "<Figure size 640x480 with 2 Axes>"
            ],
            "image/png": "[encoded data removed]"
          },
          "metadata": {}
        },
        {
          "output_type": "display_data",
          "data": {
            "text/plain": [
              "<Figure size 640x480 with 2 Axes>"
            ],
            "image/png": "[encoded data removed]"
          },
          "metadata": {}
        },
        {
          "output_type": "display_data",
          "data": {
            "text/plain": [
              "<Figure size 640x480 with 2 Axes>"
            ],
            "image/png": "[encoded data removed]"
          },
          "metadata": {}
        },
        {
          "output_type": "display_data",
          "data": {
            "text/plain": [
              "<Figure size 640x480 with 2 Axes>"
            ],
            "image/png": "[encoded data removed]"
          },
          "metadata": {}
        }
      ]
    }
  ]
}